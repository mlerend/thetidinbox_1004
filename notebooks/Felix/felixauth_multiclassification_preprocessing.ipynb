{
 "cells": [
  {
   "cell_type": "markdown",
   "id": "ab61f0b4",
   "metadata": {},
   "source": [
    "# Emails_multiclassification"
   ]
  },
  {
   "cell_type": "markdown",
   "id": "caa3d31b",
   "metadata": {},
   "source": [
    "## Import des packages"
   ]
  },
  {
   "cell_type": "code",
   "execution_count": 395,
   "id": "b128cc24",
   "metadata": {},
   "outputs": [
    {
     "name": "stdout",
     "output_type": "stream",
     "text": [
      "The autoreload extension is already loaded. To reload it, use:\n",
      "  %reload_ext autoreload\n"
     ]
    }
   ],
   "source": [
    "%load_ext autoreload\n",
    "%autoreload 2"
   ]
  },
  {
   "cell_type": "code",
   "execution_count": 701,
   "id": "79788553",
   "metadata": {},
   "outputs": [],
   "source": [
    "import sys\n",
    "import pandas as pd\n",
    "import matplotlib.pyplot as plt\n",
    "import re\n",
    "from string import punctuation\n",
    "from nltk.stem.snowball import SnowballStemmer\n",
    "from nltk.stem import WordNetLemmatizer\n",
    "from nltk.corpus import stopwords\n",
    "from nltk.tokenize import word_tokenize\n",
    "from sklearn.feature_extraction.text import TfidfVectorizer\n",
    "import random\n",
    "import mailparser\n",
    "from sklearn.metrics import classification_report # for model evaluation metrics\n",
    "sys.path.insert(0, '/home/felix/code/mlerend/thetidinbox_1004/thetidinbox_1004')"
   ]
  },
  {
   "cell_type": "markdown",
   "id": "2ea9c228",
   "metadata": {},
   "source": [
    "## Import of labeled emails"
   ]
  },
  {
   "cell_type": "code",
   "execution_count": 668,
   "id": "3f90f46f",
   "metadata": {},
   "outputs": [],
   "source": [
    "emails_df = pd.DataFrame({\"message\" : [],\n",
    "                         \"category\" : []})\n",
    "for i in range(1,9):\n",
    "    path_data = f'../../raw_data/enron/emails/txt_files_categories/all_txt_files{i}.txt'\n",
    "    with open(path_data) as f:\n",
    "        contents = f.read()\n",
    "        emails_cat = [\"Message-ID: \" + email for email in contents.split(\"Message-ID: \") if email]\n",
    "        emails_df = pd.concat([emails_df, pd.DataFrame({\"message\" : emails_cat,\n",
    "                         \"category\" : int(i)})]).reset_index(drop=True)"
   ]
  },
  {
   "cell_type": "code",
   "execution_count": 660,
   "id": "a9e66d75",
   "metadata": {},
   "outputs": [],
   "source": [
    "# emails_df = pd.read_csv('https://raw.githubusercontent.com/brindasachi97/Enron-Email-Classification/master/combinedDS.csv')"
   ]
  },
  {
   "cell_type": "markdown",
   "id": "334e51b4",
   "metadata": {},
   "source": [
    "## Import of sample of non-labeled emails"
   ]
  },
  {
   "cell_type": "code",
   "execution_count": 575,
   "id": "f749f49f",
   "metadata": {},
   "outputs": [],
   "source": [
    "emails_sample_df = pd.read_csv(\"../../raw_data/enron/emails.csv\", nrows = 3000)"
   ]
  },
  {
   "cell_type": "markdown",
   "id": "0dbdd487",
   "metadata": {},
   "source": [
    "## Parsing"
   ]
  },
  {
   "cell_type": "code",
   "execution_count": 541,
   "id": "5e1c4d9f",
   "metadata": {},
   "outputs": [],
   "source": [
    "def extract_date(email):\n",
    "    mail = mailparser.parse_from_string(email)\n",
    "    date = mail.date\n",
    "    return date\n",
    "\n",
    "def extract_sender(email):\n",
    "    mail = mailparser.parse_from_string(email)\n",
    "    if len(mail.from_) > 0:\n",
    "        sender = mail.from_[0][1]\n",
    "    else:\n",
    "        sender = mail.from_\n",
    "    return sender\n",
    "\n",
    "def extract_recipients(email):\n",
    "    mail = mailparser.parse_from_string(email)\n",
    "    if len(mail.to) > 0:\n",
    "        to = \",\".join([rec[1] for rec in mail.to])\n",
    "    else:\n",
    "        to = mail.to\n",
    "    return to\n",
    "\n",
    "def extract_header(email):\n",
    "    mail = mailparser.parse_from_string(email)\n",
    "    header = mail.subject\n",
    "    return header\n",
    "\n",
    "def extract_body(email):\n",
    "    mail = mailparser.parse_from_string(email)\n",
    "    body = mail.body\n",
    "    return body"
   ]
  },
  {
   "cell_type": "markdown",
   "id": "43cfd8f0",
   "metadata": {},
   "source": [
    "### Parsing labeled emails"
   ]
  },
  {
   "cell_type": "code",
   "execution_count": 661,
   "id": "4651d354",
   "metadata": {},
   "outputs": [],
   "source": [
    "# emails_df_parsed = pd.DataFrame()\n",
    "# emails_df_parsed[\"ID\"] = emails_df[\"Message-ID:\"].apply(lambda x: re.search(r'\\d+',x)[0])\n",
    "# emails_df_parsed[\"date\"] = emails_df[\"Date:\"]\n",
    "# emails_df_parsed[\"from\"] = emails_df[\"From:\"]\n",
    "# emails_df_parsed[\"to\"] = emails_df[\"To:\"]\n",
    "# emails_df_parsed[\"header\"] = emails_df[\"Subject:\"]\n",
    "# emails_df_parsed[\"body\"] = emails_df[\"MessContents\"]\n",
    "# emails_df_parsed[\"category\"] = emails_df[\"category\"]\n",
    "# emails_df_parsed.head()"
   ]
  },
  {
   "cell_type": "code",
   "execution_count": 669,
   "id": "65e55b9a",
   "metadata": {},
   "outputs": [
    {
     "name": "stderr",
     "output_type": "stream",
     "text": [
      "Email content 'mixed' not handled\n",
      "Email content 'mixed' not handled\n",
      "Email content 'alternative' not handled\n",
      "Email content 'alternative' not handled\n",
      "Email content 'mixed' not handled\n",
      "Email content 'mixed' not handled\n",
      "Email content 'mixed' not handled\n",
      "Email content 'mixed' not handled\n",
      "Email content 'alternative' not handled\n",
      "Email content 'alternative' not handled\n",
      "Email content 'mixed' not handled\n",
      "Email content 'mixed' not handled\n",
      "Email content 'mixed' not handled\n",
      "Email content 'mixed' not handled\n",
      "Email content 'alternative' not handled\n",
      "Email content 'alternative' not handled\n",
      "Email content 'mixed' not handled\n",
      "Email content 'mixed' not handled\n",
      "Email content 'mixed' not handled\n",
      "Email content 'mixed' not handled\n",
      "Email content 'alternative' not handled\n",
      "Email content 'alternative' not handled\n",
      "Email content 'mixed' not handled\n",
      "Email content 'mixed' not handled\n",
      "Email content 'mixed' not handled\n",
      "Email content 'mixed' not handled\n",
      "Email content 'alternative' not handled\n",
      "Email content 'alternative' not handled\n",
      "Email content 'mixed' not handled\n",
      "Email content 'mixed' not handled\n"
     ]
    },
    {
     "data": {
      "text/html": [
       "<div>\n",
       "<style scoped>\n",
       "    .dataframe tbody tr th:only-of-type {\n",
       "        vertical-align: middle;\n",
       "    }\n",
       "\n",
       "    .dataframe tbody tr th {\n",
       "        vertical-align: top;\n",
       "    }\n",
       "\n",
       "    .dataframe thead th {\n",
       "        text-align: right;\n",
       "    }\n",
       "</style>\n",
       "<table border=\"1\" class=\"dataframe\">\n",
       "  <thead>\n",
       "    <tr style=\"text-align: right;\">\n",
       "      <th></th>\n",
       "      <th>ID</th>\n",
       "      <th>date</th>\n",
       "      <th>from</th>\n",
       "      <th>to</th>\n",
       "      <th>header</th>\n",
       "      <th>body</th>\n",
       "      <th>category</th>\n",
       "    </tr>\n",
       "  </thead>\n",
       "  <tbody>\n",
       "    <tr>\n",
       "      <th>0</th>\n",
       "      <td>197504.1</td>\n",
       "      <td>1999-10-18 08:47:00</td>\n",
       "      <td>steven.kean@enron.com</td>\n",
       "      <td>mark.schroeder@enron.com,kenneth.lay@enron.com...</td>\n",
       "      <td>Translation of articles</td>\n",
       "      <td>---------------------- Forwarded by Steven J K...</td>\n",
       "      <td>1.0</td>\n",
       "    </tr>\n",
       "    <tr>\n",
       "      <th>1</th>\n",
       "      <td>11991339</td>\n",
       "      <td>2001-03-05 16:23:00</td>\n",
       "      <td>drew.fossum@enron.com</td>\n",
       "      <td>darrell.schoolcraft@enron.com</td>\n",
       "      <td>TW Gas Sales: PRIVILEGED AND CONFIDENTIAL ATTO...</td>\n",
       "      <td>In anticipation of potential litigation involv...</td>\n",
       "      <td>1.0</td>\n",
       "    </tr>\n",
       "    <tr>\n",
       "      <th>2</th>\n",
       "      <td>7106753.</td>\n",
       "      <td>2001-03-06 08:59:00</td>\n",
       "      <td>drew.fossum@enron.com</td>\n",
       "      <td>julia.white@enron.com,steven.january@enron.com</td>\n",
       "      <td>TW Gas Sales: PRIVILEGED AND CONFIDENTIAL ATTO...</td>\n",
       "      <td>Julia and Steve--here are some questions I've ...</td>\n",
       "      <td>1.0</td>\n",
       "    </tr>\n",
       "    <tr>\n",
       "      <th>3</th>\n",
       "      <td>21267718</td>\n",
       "      <td>2001-03-06 19:59:00</td>\n",
       "      <td>drew.fossum@enron.com</td>\n",
       "      <td>julia.white@enron.com,steven.january@enron.com</td>\n",
       "      <td>TW Gas Sales: PRIVILEGED AND CONFIDENTIAL ATTO...</td>\n",
       "      <td>Julia and Steve--here are some questions I've ...</td>\n",
       "      <td>1.0</td>\n",
       "    </tr>\n",
       "    <tr>\n",
       "      <th>4</th>\n",
       "      <td>20866019</td>\n",
       "      <td>2001-03-06 03:23:00</td>\n",
       "      <td>drew.fossum@enron.com</td>\n",
       "      <td>darrell.schoolcraft@enron.com</td>\n",
       "      <td>TW Gas Sales: PRIVILEGED AND CONFIDENTIAL ATTO...</td>\n",
       "      <td>In anticipation of potential litigation involv...</td>\n",
       "      <td>1.0</td>\n",
       "    </tr>\n",
       "  </tbody>\n",
       "</table>\n",
       "</div>"
      ],
      "text/plain": [
       "         ID                date                   from  \\\n",
       "0  197504.1 1999-10-18 08:47:00  steven.kean@enron.com   \n",
       "1  11991339 2001-03-05 16:23:00  drew.fossum@enron.com   \n",
       "2  7106753. 2001-03-06 08:59:00  drew.fossum@enron.com   \n",
       "3  21267718 2001-03-06 19:59:00  drew.fossum@enron.com   \n",
       "4  20866019 2001-03-06 03:23:00  drew.fossum@enron.com   \n",
       "\n",
       "                                                  to  \\\n",
       "0  mark.schroeder@enron.com,kenneth.lay@enron.com...   \n",
       "1                      darrell.schoolcraft@enron.com   \n",
       "2     julia.white@enron.com,steven.january@enron.com   \n",
       "3     julia.white@enron.com,steven.january@enron.com   \n",
       "4                      darrell.schoolcraft@enron.com   \n",
       "\n",
       "                                              header  \\\n",
       "0                            Translation of articles   \n",
       "1  TW Gas Sales: PRIVILEGED AND CONFIDENTIAL ATTO...   \n",
       "2  TW Gas Sales: PRIVILEGED AND CONFIDENTIAL ATTO...   \n",
       "3  TW Gas Sales: PRIVILEGED AND CONFIDENTIAL ATTO...   \n",
       "4  TW Gas Sales: PRIVILEGED AND CONFIDENTIAL ATTO...   \n",
       "\n",
       "                                                body  category  \n",
       "0  ---------------------- Forwarded by Steven J K...       1.0  \n",
       "1  In anticipation of potential litigation involv...       1.0  \n",
       "2  Julia and Steve--here are some questions I've ...       1.0  \n",
       "3  Julia and Steve--here are some questions I've ...       1.0  \n",
       "4  In anticipation of potential litigation involv...       1.0  "
      ]
     },
     "execution_count": 669,
     "metadata": {},
     "output_type": "execute_result"
    }
   ],
   "source": [
    "emails_df_parsed = pd.DataFrame()\n",
    "emails_df_parsed[\"ID\"] = emails_df[\"message\"].apply(lambda x: x[13:21])\n",
    "emails_df_parsed[\"date\"] = emails_df[\"message\"].apply(extract_date)\n",
    "emails_df_parsed[\"from\"] = emails_df[\"message\"].apply(extract_sender)\n",
    "emails_df_parsed[\"to\"] = emails_df[\"message\"].apply(extract_recipients)\n",
    "emails_df_parsed[\"header\"] = emails_df[\"message\"].apply(extract_header)\n",
    "emails_df_parsed[\"body\"] = emails_df[\"message\"].apply(extract_body)\n",
    "emails_df_parsed[\"category\"] = emails_df[\"category\"]\n",
    "emails_df_parsed.head()"
   ]
  },
  {
   "cell_type": "markdown",
   "id": "373272f9",
   "metadata": {},
   "source": [
    "### Parsing non-labeled emails"
   ]
  },
  {
   "cell_type": "code",
   "execution_count": 663,
   "id": "a3f72c2e",
   "metadata": {},
   "outputs": [
    {
     "data": {
      "text/html": [
       "<div>\n",
       "<style scoped>\n",
       "    .dataframe tbody tr th:only-of-type {\n",
       "        vertical-align: middle;\n",
       "    }\n",
       "\n",
       "    .dataframe tbody tr th {\n",
       "        vertical-align: top;\n",
       "    }\n",
       "\n",
       "    .dataframe thead th {\n",
       "        text-align: right;\n",
       "    }\n",
       "</style>\n",
       "<table border=\"1\" class=\"dataframe\">\n",
       "  <thead>\n",
       "    <tr style=\"text-align: right;\">\n",
       "      <th></th>\n",
       "      <th>ID</th>\n",
       "      <th>date</th>\n",
       "      <th>from</th>\n",
       "      <th>to</th>\n",
       "      <th>header</th>\n",
       "      <th>body</th>\n",
       "      <th>category</th>\n",
       "    </tr>\n",
       "  </thead>\n",
       "  <tbody>\n",
       "    <tr>\n",
       "      <th>0</th>\n",
       "      <td>18782981</td>\n",
       "      <td>2001-05-14 23:39:00</td>\n",
       "      <td>phillip.allen@enron.com</td>\n",
       "      <td>tim.belden@enron.com</td>\n",
       "      <td></td>\n",
       "      <td>Here is our forecast\\n\\n</td>\n",
       "      <td>-1</td>\n",
       "    </tr>\n",
       "    <tr>\n",
       "      <th>1</th>\n",
       "      <td>15464986</td>\n",
       "      <td>2001-05-04 20:51:00</td>\n",
       "      <td>phillip.allen@enron.com</td>\n",
       "      <td>john.lavorato@enron.com</td>\n",
       "      <td>Re:</td>\n",
       "      <td>Traveling to have a business meeting takes the...</td>\n",
       "      <td>-1</td>\n",
       "    </tr>\n",
       "    <tr>\n",
       "      <th>2</th>\n",
       "      <td>24216240</td>\n",
       "      <td>2000-10-18 10:00:00</td>\n",
       "      <td>phillip.allen@enron.com</td>\n",
       "      <td>leah.arsdall@enron.com</td>\n",
       "      <td>Re: test</td>\n",
       "      <td>test successful.  way to go!!!</td>\n",
       "      <td>-1</td>\n",
       "    </tr>\n",
       "    <tr>\n",
       "      <th>3</th>\n",
       "      <td>13505866</td>\n",
       "      <td>2000-10-23 13:13:00</td>\n",
       "      <td>phillip.allen@enron.com</td>\n",
       "      <td>randall.gay@enron.com</td>\n",
       "      <td></td>\n",
       "      <td>Randy,\\n\\n Can you send me a schedule of the s...</td>\n",
       "      <td>-1</td>\n",
       "    </tr>\n",
       "    <tr>\n",
       "      <th>4</th>\n",
       "      <td>30922949</td>\n",
       "      <td>2000-08-31 12:07:00</td>\n",
       "      <td>phillip.allen@enron.com</td>\n",
       "      <td>greg.piper@enron.com</td>\n",
       "      <td>Re: Hello</td>\n",
       "      <td>Let's shoot for Tuesday at 11:45.</td>\n",
       "      <td>-1</td>\n",
       "    </tr>\n",
       "  </tbody>\n",
       "</table>\n",
       "</div>"
      ],
      "text/plain": [
       "         ID                date                     from  \\\n",
       "0  18782981 2001-05-14 23:39:00  phillip.allen@enron.com   \n",
       "1  15464986 2001-05-04 20:51:00  phillip.allen@enron.com   \n",
       "2  24216240 2000-10-18 10:00:00  phillip.allen@enron.com   \n",
       "3  13505866 2000-10-23 13:13:00  phillip.allen@enron.com   \n",
       "4  30922949 2000-08-31 12:07:00  phillip.allen@enron.com   \n",
       "\n",
       "                        to     header  \\\n",
       "0     tim.belden@enron.com              \n",
       "1  john.lavorato@enron.com        Re:   \n",
       "2   leah.arsdall@enron.com   Re: test   \n",
       "3    randall.gay@enron.com              \n",
       "4     greg.piper@enron.com  Re: Hello   \n",
       "\n",
       "                                                body  category  \n",
       "0                          Here is our forecast\\n\\n         -1  \n",
       "1  Traveling to have a business meeting takes the...        -1  \n",
       "2                     test successful.  way to go!!!        -1  \n",
       "3  Randy,\\n\\n Can you send me a schedule of the s...        -1  \n",
       "4                Let's shoot for Tuesday at 11:45.          -1  "
      ]
     },
     "execution_count": 663,
     "metadata": {},
     "output_type": "execute_result"
    }
   ],
   "source": [
    "emails_sample_df_parsed = pd.DataFrame()\n",
    "emails_sample_df_parsed[\"ID\"] = emails_sample_df[\"message\"].apply(lambda x: x[13:21])\n",
    "emails_sample_df_parsed[\"date\"] = emails_sample_df[\"message\"].apply(extract_date)\n",
    "emails_sample_df_parsed[\"from\"] = emails_sample_df[\"message\"].apply(extract_sender)\n",
    "emails_sample_df_parsed[\"to\"] = emails_sample_df[\"message\"].apply(extract_recipients)\n",
    "emails_sample_df_parsed[\"header\"] = emails_sample_df[\"message\"].apply(extract_header)\n",
    "emails_sample_df_parsed[\"body\"] = emails_sample_df[\"message\"].apply(extract_body)\n",
    "emails_sample_df_parsed[\"category\"] = -1\n",
    "emails_sample_df_parsed.head()"
   ]
  },
  {
   "cell_type": "markdown",
   "id": "7dd3a801",
   "metadata": {},
   "source": [
    "## Concatenating the labeled and non-labeled emails"
   ]
  },
  {
   "cell_type": "markdown",
   "id": "7f9bb668",
   "metadata": {},
   "source": [
    "### Removing potential labeled emails in the non-labeled emails"
   ]
  },
  {
   "cell_type": "code",
   "execution_count": 670,
   "id": "a349c6a5",
   "metadata": {},
   "outputs": [
    {
     "data": {
      "text/plain": [
       "(2994, 7)"
      ]
     },
     "execution_count": 670,
     "metadata": {},
     "output_type": "execute_result"
    }
   ],
   "source": [
    "ID_labeled = emails_df_parsed.ID.unique()\n",
    "ID_non_labeled = emails_sample_df_parsed.ID.unique()\n",
    "ID_to_delete = []\n",
    "for id_email in ID_labeled:\n",
    "    if id_email in ID_non_labeled:\n",
    "        ID_to_delete.append(id_email)\n",
    "emails_sample_df_parsed = emails_sample_df_parsed[~emails_sample_df_parsed[\"ID\"].isin(ID_to_delete)]\n",
    "emails_sample_df_parsed.shape"
   ]
  },
  {
   "cell_type": "markdown",
   "id": "260c29b8",
   "metadata": {},
   "source": [
    "### Concatenating"
   ]
  },
  {
   "cell_type": "code",
   "execution_count": 671,
   "id": "75ed83aa",
   "metadata": {},
   "outputs": [
    {
     "data": {
      "text/plain": [
       "(4710, 7)"
      ]
     },
     "execution_count": 671,
     "metadata": {},
     "output_type": "execute_result"
    }
   ],
   "source": [
    "emails_df_all = pd.concat([emails_df_parsed,emails_sample_df_parsed], axis=0).reset_index(drop=True)\n",
    "emails_df_all.shape"
   ]
  },
  {
   "cell_type": "markdown",
   "id": "4d960024",
   "metadata": {},
   "source": [
    "## Data exploration"
   ]
  },
  {
   "cell_type": "code",
   "execution_count": 672,
   "id": "ed5d52c6",
   "metadata": {},
   "outputs": [
    {
     "data": {
      "text/html": [
       "<div>\n",
       "<style scoped>\n",
       "    .dataframe tbody tr th:only-of-type {\n",
       "        vertical-align: middle;\n",
       "    }\n",
       "\n",
       "    .dataframe tbody tr th {\n",
       "        vertical-align: top;\n",
       "    }\n",
       "\n",
       "    .dataframe thead th {\n",
       "        text-align: right;\n",
       "    }\n",
       "</style>\n",
       "<table border=\"1\" class=\"dataframe\">\n",
       "  <thead>\n",
       "    <tr style=\"text-align: right;\">\n",
       "      <th></th>\n",
       "      <th>number of emails</th>\n",
       "      <th>% of total</th>\n",
       "    </tr>\n",
       "  </thead>\n",
       "  <tbody>\n",
       "    <tr>\n",
       "      <th>1.0</th>\n",
       "      <td>839.0</td>\n",
       "      <td>0.49</td>\n",
       "    </tr>\n",
       "    <tr>\n",
       "      <th>2.0</th>\n",
       "      <td>38.0</td>\n",
       "      <td>0.02</td>\n",
       "    </tr>\n",
       "    <tr>\n",
       "      <th>3.0</th>\n",
       "      <td>102.0</td>\n",
       "      <td>0.06</td>\n",
       "    </tr>\n",
       "    <tr>\n",
       "      <th>4.0</th>\n",
       "      <td>480.0</td>\n",
       "      <td>0.28</td>\n",
       "    </tr>\n",
       "    <tr>\n",
       "      <th>5.0</th>\n",
       "      <td>74.0</td>\n",
       "      <td>0.04</td>\n",
       "    </tr>\n",
       "    <tr>\n",
       "      <th>6.0</th>\n",
       "      <td>144.0</td>\n",
       "      <td>0.08</td>\n",
       "    </tr>\n",
       "    <tr>\n",
       "      <th>7.0</th>\n",
       "      <td>21.0</td>\n",
       "      <td>0.01</td>\n",
       "    </tr>\n",
       "    <tr>\n",
       "      <th>8.0</th>\n",
       "      <td>18.0</td>\n",
       "      <td>0.01</td>\n",
       "    </tr>\n",
       "    <tr>\n",
       "      <th>Total</th>\n",
       "      <td>1716.0</td>\n",
       "      <td>0.99</td>\n",
       "    </tr>\n",
       "  </tbody>\n",
       "</table>\n",
       "</div>"
      ],
      "text/plain": [
       "       number of emails  % of total\n",
       "1.0               839.0        0.49\n",
       "2.0                38.0        0.02\n",
       "3.0               102.0        0.06\n",
       "4.0               480.0        0.28\n",
       "5.0                74.0        0.04\n",
       "6.0               144.0        0.08\n",
       "7.0                21.0        0.01\n",
       "8.0                18.0        0.01\n",
       "Total            1716.0        0.99"
      ]
     },
     "execution_count": 672,
     "metadata": {},
     "output_type": "execute_result"
    }
   ],
   "source": [
    "num_email_per_cat = emails_df_all[emails_df_all[\"category\"]!=-1][\"category\"].value_counts().sort_index()\n",
    "weight_email_per_cat = emails_df_all[emails_df_all[\"category\"]!=-1][\"category\"].value_counts(normalize=True).sort_index()\n",
    "num_mail_df = pd.DataFrame({\"number of emails\" : num_email_per_cat.values,\n",
    "             \"% of total\" : round(weight_email_per_cat,2)}, index = num_email_per_cat.index)\n",
    "num_mail_df.loc[\"Total\"] = num_mail_df.sum()\n",
    "num_mail_df"
   ]
  },
  {
   "cell_type": "code",
   "execution_count": 673,
   "id": "4496b927",
   "metadata": {},
   "outputs": [
    {
     "name": "stdout",
     "output_type": "stream",
     "text": [
      "Le nombre moyen de mots par email est de 3114\n"
     ]
    }
   ],
   "source": [
    "avg_length = int(emails_df_all[\"body\"].apply(lambda x : len(x)).mean())\n",
    "print(f\"Le nombre moyen de mots par email est de {avg_length}\")"
   ]
  },
  {
   "cell_type": "code",
   "execution_count": 674,
   "id": "33ca0462",
   "metadata": {},
   "outputs": [
    {
     "data": {
      "image/png": "[encoded data removed]",
      "text/plain": [
       "<Figure size 432x288 with 1 Axes>"
      ]
     },
     "metadata": {
      "needs_background": "light"
     },
     "output_type": "display_data"
    }
   ],
   "source": [
    "plt.hist(emails_df_all[\"body\"].apply(lambda x : len(x)));"
   ]
  },
  {
   "cell_type": "markdown",
   "id": "9b862a39",
   "metadata": {},
   "source": [
    "## Data cleaning"
   ]
  },
  {
   "cell_type": "code",
   "execution_count": 615,
   "id": "6de0bd74",
   "metadata": {},
   "outputs": [],
   "source": [
    "def clean_email(email):\n",
    "\n",
    "    # Remove mentions\n",
    "    email = re.sub(r'@\\w+', '', email)\n",
    "    # Remove urls\n",
    "    email = re.sub(r'http\\S+', ' ', email)\n",
    "    # Remove digits\n",
    "    email = re.sub(\"\\d+\", \" \", email)\n",
    "    # Remove backline character\n",
    "    email = email.replace('\\n', ' ')\n",
    "    # Remove digits between brackets\n",
    "    email = re.sub(r'<.*>', '', email)\n",
    "    # Remove punctuations\n",
    "    email = email.translate(str.maketrans(\"\", \"\", punctuation))\n",
    "    email = email.lower()\n",
    "    # Remove some keyword\n",
    "    elements_to_drop = ['Message-ID:', 'Date:', 'From:', 'To:', 'Subject:', 'Cc:', 'Mime-Version:',\n",
    "     'Content-Type:', 'Content-Transfer-Encoding:', 'Bcc:', 'X-From:', 'X-To:', 'X-cc:', 'X-bcc:',\n",
    "     'X-Folder:', 'X-Origin:', 'X-FileName:', 'cc', '\\t', '--', 'Sent', ' --', '-', '/', '\\n', 'Re:', 'FW:']\n",
    "    for element in elements_to_drop:\n",
    "        email = email.replace(element, '')\n",
    "\n",
    "    return email"
   ]
  },
  {
   "cell_type": "code",
   "execution_count": 675,
   "id": "4cf6f9bf",
   "metadata": {},
   "outputs": [],
   "source": [
    "# emails_df_m_cleaned = emails_df_m_cleaned.loc[emails_df_m[name_col_email].notna()]\n",
    "# emails_df_m_cleaned[name_col_email] = emails_df_m_cleaned[name_col_email].apply(clean_email)\n",
    "\n",
    "emails_df_all_cleaned = emails_df_all.loc[emails_df_all[\"body\"].notna()]\n",
    "emails_df_all_cleaned[name_col_email] = emails_df_all_cleaned[\"body\"].apply(clean_email)"
   ]
  },
  {
   "cell_type": "markdown",
   "id": "a681c122",
   "metadata": {},
   "source": [
    "## Stopwords removal"
   ]
  },
  {
   "cell_type": "markdown",
   "id": "53148e8a",
   "metadata": {},
   "source": [
    "Removing English stopwords"
   ]
  },
  {
   "cell_type": "code",
   "execution_count": 181,
   "id": "caa5433b",
   "metadata": {},
   "outputs": [],
   "source": [
    "def stopword_removal(email):\n",
    "\n",
    "    stop_words = set(stopwords.words('english')) \n",
    "\n",
    "    email = email.split()\n",
    "    filtered_sentence = \"\"\n",
    "\n",
    "    for w in email: \n",
    "        if w not in stop_words: \n",
    "            filtered_sentence = filtered_sentence + w +\" \"\n",
    "\n",
    "    return filtered_sentence"
   ]
  },
  {
   "cell_type": "code",
   "execution_count": 676,
   "id": "08bfa4e9",
   "metadata": {},
   "outputs": [],
   "source": [
    "emails_df_all_cleaned[\"body\"] = emails_df_all_cleaned[\"body\"].apply(stopword_removal)"
   ]
  },
  {
   "cell_type": "markdown",
   "id": "0ef661bd",
   "metadata": {},
   "source": [
    "## Tokenizing"
   ]
  },
  {
   "cell_type": "markdown",
   "id": "4f2f7b7e",
   "metadata": {},
   "source": [
    "Transforming string into a list of words"
   ]
  },
  {
   "cell_type": "code",
   "execution_count": 677,
   "id": "e53fde80",
   "metadata": {},
   "outputs": [],
   "source": [
    "emails_df_all_cleaned[\"body\"] = emails_df_all_cleaned[\"body\"].apply(word_tokenize)"
   ]
  },
  {
   "cell_type": "markdown",
   "id": "2dad8838",
   "metadata": {},
   "source": [
    "## Lemmatizing"
   ]
  },
  {
   "cell_type": "markdown",
   "id": "f0e67e1a",
   "metadata": {},
   "source": [
    "Replacing each word by its root (ex: 'Working' ==> 'Work')"
   ]
  },
  {
   "cell_type": "code",
   "execution_count": 678,
   "id": "fa1a0c08",
   "metadata": {},
   "outputs": [],
   "source": [
    "def lemmatizing(email):\n",
    "    \n",
    "    # 1 - Lemmating the verbs\n",
    "    verb_lemmatized = [                  \n",
    "    WordNetLemmatizer().lemmatize(word, pos = \"v\") # v --> verbs\n",
    "    for word in email   \n",
    "    ]\n",
    "\n",
    "    # 2 - Lemmatizing the nouns\n",
    "    noun_lemmatized = [                 \n",
    "    WordNetLemmatizer().lemmatize(word, pos = \"n\") # n --> nouns\n",
    "    for word in verb_lemmatized\n",
    "    ]\n",
    "    \n",
    "    return noun_lemmatized"
   ]
  },
  {
   "cell_type": "code",
   "execution_count": 679,
   "id": "2afd8546",
   "metadata": {},
   "outputs": [],
   "source": [
    "emails_df_all_cleaned[\"body\"] = emails_df_all_cleaned[\"body\"].apply(lemmatizing)"
   ]
  },
  {
   "cell_type": "markdown",
   "id": "8b562a95",
   "metadata": {},
   "source": [
    "Removing empty message contents after preprocessing :"
   ]
  },
  {
   "cell_type": "code",
   "execution_count": 680,
   "id": "a5ce3405",
   "metadata": {},
   "outputs": [],
   "source": [
    "emails_df_all_cleaned = emails_df_all_cleaned[emails_df_all_cleaned[\"body\"].map(lambda d: len(d)) > 0]"
   ]
  },
  {
   "cell_type": "markdown",
   "id": "de178de6",
   "metadata": {},
   "source": [
    "Converting list messages into string"
   ]
  },
  {
   "cell_type": "code",
   "execution_count": 681,
   "id": "b6182314",
   "metadata": {},
   "outputs": [],
   "source": [
    "emails_df_all_cleaned[\"body\"] = emails_df_all_cleaned[\"body\"].apply(lambda x: \" \".join(x))"
   ]
  },
  {
   "cell_type": "markdown",
   "id": "ee9a3252",
   "metadata": {},
   "source": [
    "## Example"
   ]
  },
  {
   "cell_type": "code",
   "execution_count": 685,
   "id": "2b2f54eb",
   "metadata": {},
   "outputs": [
    {
     "data": {
      "text/plain": [
       "3122"
      ]
     },
     "execution_count": 685,
     "metadata": {},
     "output_type": "execute_result"
    }
   ],
   "source": [
    "random_email_num = random.randint(0,len(emails_df_all_cleaned))\n",
    "random_email_num"
   ]
  },
  {
   "cell_type": "markdown",
   "id": "b665cf17",
   "metadata": {},
   "source": [
    "### Before cleaning"
   ]
  },
  {
   "cell_type": "code",
   "execution_count": 686,
   "id": "f98d4ce8",
   "metadata": {},
   "outputs": [
    {
     "data": {
      "text/plain": [
       "'Dear phillip,\\n\\n\\nThis e-mail is automated notification of the availability of your\\ncurrent Natural Gas Intelligence Newsletter(s). Please use your\\nusername of \"pallen\" and your password to access\\n\\n       NGI\\'s Weekly Gas Price Index\\n\\n       Natural Gas Intelligence, the Weekly Newsletter\\n\\nhttp://intelligencepress.com/subscribers/index.html\\n\\nIf you have forgotten your password please visit\\n  http://intelligencepress.com/password.html\\nand we will send it to you.\\n\\nIf you would like to stop receiving e-mail notifications when your\\npublications are available, please reply to this message with\\nREMOVE E-MAIL in the subject line.\\n\\nThank you for your subscription.\\n\\nFor information about other Intelligence Press products and services,\\nincluding maps and glossaries visit our web site at\\nhttp://intelligencepress.com or call toll-free (800) 427-5747.\\n\\nALL RIGHTS RESERVED. (c) 2001, Intelligence Press, Inc.\\n---\\n           '"
      ]
     },
     "execution_count": 686,
     "metadata": {},
     "output_type": "execute_result"
    }
   ],
   "source": [
    "emails_df_all.loc[random_email_num,\"body\"]"
   ]
  },
  {
   "cell_type": "markdown",
   "id": "407aeb19",
   "metadata": {},
   "source": [
    "### After cleaning"
   ]
  },
  {
   "cell_type": "code",
   "execution_count": 687,
   "id": "5e54786d",
   "metadata": {},
   "outputs": [
    {
     "data": {
      "text/plain": [
       "'dear phillip email automate notification availability current natural gas intelligence newsletter please use username pallen password aess ngis weekly gas price index natural gas intelligence weekly newsletter forget password please visit send would like stop receive email notification publication available please reply message remove email subject line thank subscription information intelligence press product service include map glossary visit web site call tollfree right reserve c intelligence press inc'"
      ]
     },
     "execution_count": 687,
     "metadata": {},
     "output_type": "execute_result"
    }
   ],
   "source": [
    "emails_df_all_cleaned.loc[random_email_num,\"body\"]"
   ]
  },
  {
   "cell_type": "markdown",
   "id": "ca6d0ade",
   "metadata": {},
   "source": [
    "## Export csv"
   ]
  },
  {
   "cell_type": "code",
   "execution_count": 198,
   "id": "6ac4a97d",
   "metadata": {},
   "outputs": [],
   "source": [
    "emails_df_all_cleaned.to_csv(\"emails_df_cleaned.csv\")"
   ]
  },
  {
   "cell_type": "markdown",
   "id": "b0b45734",
   "metadata": {},
   "source": [
    "## Initial model"
   ]
  },
  {
   "cell_type": "markdown",
   "id": "e7f6881c",
   "metadata": {},
   "source": [
    "### Evaluating a model based on the 1700 emails labelled"
   ]
  },
  {
   "cell_type": "code",
   "execution_count": 690,
   "id": "ef021f6c",
   "metadata": {},
   "outputs": [
    {
     "name": "stdout",
     "output_type": "stream",
     "text": [
      "Accuracy: 0.4868035190615836\n"
     ]
    }
   ],
   "source": [
    "from sklearn.model_selection import train_test_split\n",
    "from sklearn.svm import SVC\n",
    "from sklearn.metrics import accuracy_score\n",
    "from sklearn.feature_extraction.text import CountVectorizer\n",
    "from sklearn.semi_supervised import SelfTrainingClassifier # for Semi-Supervised learning\n",
    "\n",
    "# Considering only labeled emails\n",
    "emails_df_all_cleaned_train = emails_df_all_cleaned[emails_df_all_cleaned[\"category\"]!=-1]\n",
    "\n",
    "# Train-test split\n",
    "X_train, X_test, y_train, y_test = train_test_split(emails_df_all_cleaned_train[\"body\"], emails_df_all_cleaned_train[\"category\"], test_size=0.2)\n",
    "\n",
    "# Vectorizer\n",
    "vectorizer = CountVectorizer()\n",
    "X_train_counts = vectorizer.fit_transform(X_train)\n",
    "X_test_counts = vectorizer.transform(X_test)\n",
    "\n",
    "# Model\n",
    "clf = SVC(probability=True)\n",
    "clf.fit(X_train_counts, y_train)\n",
    "y_pred = clf.predict(X_test_counts)\n",
    "print(\"Accuracy:\", accuracy_score(y_test, y_pred))"
   ]
  },
  {
   "cell_type": "code",
   "execution_count": 691,
   "id": "b1ab968c",
   "metadata": {},
   "outputs": [
    {
     "data": {
      "text/html": [
       "<div>\n",
       "<style scoped>\n",
       "    .dataframe tbody tr th:only-of-type {\n",
       "        vertical-align: middle;\n",
       "    }\n",
       "\n",
       "    .dataframe tbody tr th {\n",
       "        vertical-align: top;\n",
       "    }\n",
       "\n",
       "    .dataframe thead th {\n",
       "        text-align: right;\n",
       "    }\n",
       "</style>\n",
       "<table border=\"1\" class=\"dataframe\">\n",
       "  <thead>\n",
       "    <tr style=\"text-align: right;\">\n",
       "      <th></th>\n",
       "      <th>body_test</th>\n",
       "      <th>category_pred</th>\n",
       "      <th>cat_1</th>\n",
       "      <th>cat_2</th>\n",
       "      <th>cat_3</th>\n",
       "      <th>cat_4</th>\n",
       "      <th>cat_5</th>\n",
       "      <th>cat_6</th>\n",
       "      <th>cat_7</th>\n",
       "      <th>cat_8</th>\n",
       "      <th>proba_cat</th>\n",
       "    </tr>\n",
       "  </thead>\n",
       "  <tbody>\n",
       "    <tr>\n",
       "      <th>0</th>\n",
       "      <td>attach draft agenda discus irwin show joskow a...</td>\n",
       "      <td>1.0</td>\n",
       "      <td>0.264988</td>\n",
       "      <td>0.024466</td>\n",
       "      <td>0.051992</td>\n",
       "      <td>0.512055</td>\n",
       "      <td>0.023395</td>\n",
       "      <td>0.099701</td>\n",
       "      <td>0.012809</td>\n",
       "      <td>0.010594</td>\n",
       "      <td>0.512055</td>\n",
       "    </tr>\n",
       "    <tr>\n",
       "      <th>1</th>\n",
       "      <td>call rob wall see attend carol ann brown commu...</td>\n",
       "      <td>1.0</td>\n",
       "      <td>0.157483</td>\n",
       "      <td>0.022899</td>\n",
       "      <td>0.048843</td>\n",
       "      <td>0.688827</td>\n",
       "      <td>0.017988</td>\n",
       "      <td>0.041677</td>\n",
       "      <td>0.012569</td>\n",
       "      <td>0.009716</td>\n",
       "      <td>0.688827</td>\n",
       "    </tr>\n",
       "    <tr>\n",
       "      <th>2</th>\n",
       "      <td>advice much esteem spouse would like express g...</td>\n",
       "      <td>1.0</td>\n",
       "      <td>0.244468</td>\n",
       "      <td>0.026990</td>\n",
       "      <td>0.054902</td>\n",
       "      <td>0.530355</td>\n",
       "      <td>0.049583</td>\n",
       "      <td>0.069028</td>\n",
       "      <td>0.014229</td>\n",
       "      <td>0.010445</td>\n",
       "      <td>0.530355</td>\n",
       "    </tr>\n",
       "  </tbody>\n",
       "</table>\n",
       "</div>"
      ],
      "text/plain": [
       "                                           body_test  category_pred     cat_1  \\\n",
       "0  attach draft agenda discus irwin show joskow a...            1.0  0.264988   \n",
       "1  call rob wall see attend carol ann brown commu...            1.0  0.157483   \n",
       "2  advice much esteem spouse would like express g...            1.0  0.244468   \n",
       "\n",
       "      cat_2     cat_3     cat_4     cat_5     cat_6     cat_7     cat_8  \\\n",
       "0  0.024466  0.051992  0.512055  0.023395  0.099701  0.012809  0.010594   \n",
       "1  0.022899  0.048843  0.688827  0.017988  0.041677  0.012569  0.009716   \n",
       "2  0.026990  0.054902  0.530355  0.049583  0.069028  0.014229  0.010445   \n",
       "\n",
       "   proba_cat  \n",
       "0   0.512055  \n",
       "1   0.688827  \n",
       "2   0.530355  "
      ]
     },
     "execution_count": 691,
     "metadata": {},
     "output_type": "execute_result"
    }
   ],
   "source": [
    "y_pred_proba = clf.predict_proba(X_test_counts)\n",
    "name_col_cat = [\"cat_\" + str(i) for i in range(1,9)]\n",
    "y_pred_proba_df = pd.DataFrame(y_pred_proba, columns = name_col_cat).reset_index(drop=True)\n",
    "X_y_pred = pd.DataFrame({\"body_test\" : X_test,\n",
    "            \"category_pred\" : y_pred}).reset_index(drop=True)\n",
    "pred_df = pd.concat([X_y_pred, y_pred_proba_df], axis=1)\n",
    "\n",
    "threshold = 0.8\n",
    "pred_df[\"proba_cat\"] = pred_df[name_col_cat].max(axis=1)\n",
    "# pred_df[\"keep_cat_pred\"] = pred_df[\"proba_cat\"].apply(lambda x: True if x> threshold else False)\n",
    "pred_df.head(3)"
   ]
  },
  {
   "cell_type": "code",
   "execution_count": 692,
   "id": "ac69271b",
   "metadata": {},
   "outputs": [
    {
     "data": {
      "image/png": "[encoded data removed]",
      "text/plain": [
       "<Figure size 432x288 with 1 Axes>"
      ]
     },
     "metadata": {
      "needs_background": "light"
     },
     "output_type": "display_data"
    }
   ],
   "source": [
    "plt.hist(pred_df[\"proba_cat\"]);"
   ]
  },
  {
   "cell_type": "markdown",
   "id": "8bb0508b",
   "metadata": {},
   "source": [
    "## Labelling emails based on initial model"
   ]
  },
  {
   "cell_type": "markdown",
   "id": "65faf27c",
   "metadata": {},
   "source": [
    "### Labelling"
   ]
  },
  {
   "cell_type": "code",
   "execution_count": 694,
   "id": "3234297d",
   "metadata": {},
   "outputs": [
    {
     "name": "stdout",
     "output_type": "stream",
     "text": [
      "End of iteration 1, added 66 new labels.\n",
      "End of iteration 2, added 10 new labels.\n",
      "End of iteration 3, added 7 new labels.\n",
      "End of iteration 4, added 55 new labels.\n",
      "End of iteration 5, added 41 new labels.\n",
      "End of iteration 6, added 1 new labels.\n",
      "End of iteration 7, added 57 new labels.\n",
      "End of iteration 8, added 2 new labels.\n",
      "End of iteration 9, added 2 new labels.\n",
      "End of iteration 10, added 169 new labels.\n",
      "\n",
      "---------- Self Training Model - Summary ----------\n",
      "Base Estimator:  SVC(probability=True)\n",
      "Classes:  [1. 2. 3. 4. 5. 6. 7. 8.]\n",
      "Transduction Labels:  [-1. -1. -1. ... -1. -1. -1.]\n",
      "Number of Features:  28007\n"
     ]
    },
    {
     "ename": "AttributeError",
     "evalue": "'SelfTrainingClassifier' object has no attribute 'feature_names_in_'",
     "output_type": "error",
     "traceback": [
      "\u001b[0;31m---------------------------------------------------------------------------\u001b[0m",
      "\u001b[0;31mAttributeError\u001b[0m                            Traceback (most recent call last)",
      "\u001b[0;32m/tmp/ipykernel_1061/3240181696.py\u001b[0m in \u001b[0;36m<module>\u001b[0;34m\u001b[0m\n\u001b[1;32m     32\u001b[0m \u001b[0;31m#print('Iteration When Sample Was Labeled: ', clf_ST.labeled_iter_)\u001b[0m\u001b[0;34m\u001b[0m\u001b[0;34m\u001b[0m\u001b[0;34m\u001b[0m\u001b[0m\n\u001b[1;32m     33\u001b[0m \u001b[0mprint\u001b[0m\u001b[0;34m(\u001b[0m\u001b[0;34m'Number of Features: '\u001b[0m\u001b[0;34m,\u001b[0m \u001b[0mclf_ST\u001b[0m\u001b[0;34m.\u001b[0m\u001b[0mn_features_in_\u001b[0m\u001b[0;34m)\u001b[0m\u001b[0;34m\u001b[0m\u001b[0;34m\u001b[0m\u001b[0m\n\u001b[0;32m---> 34\u001b[0;31m \u001b[0mprint\u001b[0m\u001b[0;34m(\u001b[0m\u001b[0;34m'Feature Names: '\u001b[0m\u001b[0;34m,\u001b[0m \u001b[0mclf_ST\u001b[0m\u001b[0;34m.\u001b[0m\u001b[0mfeature_names_in_\u001b[0m\u001b[0;34m)\u001b[0m\u001b[0;34m\u001b[0m\u001b[0;34m\u001b[0m\u001b[0m\n\u001b[0m\u001b[1;32m     35\u001b[0m \u001b[0mprint\u001b[0m\u001b[0;34m(\u001b[0m\u001b[0;34m'Number of Iterations: '\u001b[0m\u001b[0;34m,\u001b[0m \u001b[0mclf_ST\u001b[0m\u001b[0;34m.\u001b[0m\u001b[0mn_iter_\u001b[0m\u001b[0;34m)\u001b[0m\u001b[0;34m\u001b[0m\u001b[0;34m\u001b[0m\u001b[0m\n\u001b[1;32m     36\u001b[0m \u001b[0mprint\u001b[0m\u001b[0;34m(\u001b[0m\u001b[0;34m'Termination Condition: '\u001b[0m\u001b[0;34m,\u001b[0m \u001b[0mclf_ST\u001b[0m\u001b[0;34m.\u001b[0m\u001b[0mtermination_condition_\u001b[0m\u001b[0;34m)\u001b[0m\u001b[0;34m\u001b[0m\u001b[0;34m\u001b[0m\u001b[0m\n",
      "\u001b[0;31mAttributeError\u001b[0m: 'SelfTrainingClassifier' object has no attribute 'feature_names_in_'"
     ]
    }
   ],
   "source": [
    "# Train-test split on the whole dataset, with labeled and non labeled emails\n",
    "X_train, X_test, y_train, y_test = train_test_split(emails_df_all_cleaned[\"body\"], \n",
    "                                                    emails_df_all_cleaned[\"category\"], \n",
    "                                                    test_size=0.2)\n",
    "\n",
    "# Vectorizer\n",
    "vectorizer = CountVectorizer()\n",
    "X_train_counts = vectorizer.fit_transform(X_train)\n",
    "X_test_counts = vectorizer.transform(X_test)\n",
    "\n",
    "# Model\n",
    "clf = SVC(probability=True)\n",
    "\n",
    "# Specify Self-Training model parameters\n",
    "self_training_model = SelfTrainingClassifier(base_estimator=clf, # An estimator object implementing fit and predict_proba.\n",
    "                                             threshold=0.7, # default=0.75, The decision threshold for use with criterion='threshold'. Should be in [0, 1).\n",
    "                                             criterion='threshold', # {‘threshold’, ‘k_best’}, default=’threshold’, The selection criterion used to select which labels to add to the training set. If 'threshold', pseudo-labels with prediction probabilities above threshold are added to the dataset. If 'k_best', the k_best pseudo-labels with highest prediction probabilities are added to the dataset.\n",
    "                                             #k_best=50, # default=10, The amount of samples to add in each iteration. Only used when criterion='k_best'.\n",
    "                                             max_iter=10, # default=10, Maximum number of iterations allowed. Should be greater than or equal to 0. If it is None, the classifier will continue to predict labels until no new pseudo-labels are added, or all unlabeled samples have been labeled.\n",
    "                                             verbose=True # default=False, Verbosity prints some information after each iteration\n",
    "                                            )\n",
    "# Fit the model\n",
    "clf_ST = self_training_model.fit(X_train_counts, y_train)"
   ]
  },
  {
   "cell_type": "code",
   "execution_count": 702,
   "id": "8a73ca2b",
   "metadata": {},
   "outputs": [
    {
     "name": "stdout",
     "output_type": "stream",
     "text": [
      "\n",
      "---------- Self Training Model - Summary ----------\n",
      "Base Estimator:  SVC(probability=True)\n",
      "Classes:  [1. 2. 3. 4. 5. 6. 7. 8.]\n",
      "Transduction Labels:  [-1. -1. -1. ... -1. -1. -1.]\n",
      "Number of Features:  28007\n",
      "Number of Iterations:  10\n",
      "Termination Condition:  max_iter\n",
      "\n",
      "---------- Self Training Model - Evaluation on Test Data ----------\n",
      "Accuracy Score:  0.20106951871657755\n",
      "              precision    recall  f1-score   support\n",
      "\n",
      "        -1.0       0.00      0.00      0.00       584\n",
      "         1.0       0.56      0.55      0.56       167\n",
      "         2.0       0.00      0.00      0.00         7\n",
      "         3.0       0.00      0.00      0.00        25\n",
      "         4.0       0.12      0.91      0.22       106\n",
      "         5.0       0.00      0.00      0.00         7\n",
      "         6.0       0.00      0.00      0.00        29\n",
      "         7.0       0.00      0.00      0.00         4\n",
      "         8.0       0.00      0.00      0.00         6\n",
      "\n",
      "    accuracy                           0.20       935\n",
      "   macro avg       0.08      0.16      0.09       935\n",
      "weighted avg       0.11      0.20      0.12       935\n",
      "\n"
     ]
    },
    {
     "name": "stderr",
     "output_type": "stream",
     "text": [
      "/home/felix/.pyenv/versions/3.8.12/envs/lewagon/lib/python3.8/site-packages/sklearn/metrics/_classification.py:1334: UndefinedMetricWarning: Precision and F-score are ill-defined and being set to 0.0 in labels with no predicted samples. Use `zero_division` parameter to control this behavior.\n",
      "  _warn_prf(average, modifier, msg_start, len(result))\n",
      "/home/felix/.pyenv/versions/3.8.12/envs/lewagon/lib/python3.8/site-packages/sklearn/metrics/_classification.py:1334: UndefinedMetricWarning: Precision and F-score are ill-defined and being set to 0.0 in labels with no predicted samples. Use `zero_division` parameter to control this behavior.\n",
      "  _warn_prf(average, modifier, msg_start, len(result))\n",
      "/home/felix/.pyenv/versions/3.8.12/envs/lewagon/lib/python3.8/site-packages/sklearn/metrics/_classification.py:1334: UndefinedMetricWarning: Precision and F-score are ill-defined and being set to 0.0 in labels with no predicted samples. Use `zero_division` parameter to control this behavior.\n",
      "  _warn_prf(average, modifier, msg_start, len(result))\n"
     ]
    }
   ],
   "source": [
    "########## Step 3 - Model Evaluation ########## \n",
    "print('')\n",
    "print('---------- Self Training Model - Summary ----------')\n",
    "print('Base Estimator: ', clf_ST.base_estimator_)\n",
    "print('Classes: ', clf_ST.classes_)\n",
    "print('Transduction Labels: ', clf_ST.transduction_)\n",
    "#print('Iteration When Sample Was Labeled: ', clf_ST.labeled_iter_)\n",
    "print('Number of Features: ', clf_ST.n_features_in_)\n",
    "# print('Feature Names: ', clf_ST.feature_names_in_)\n",
    "\n",
    "print('Number of Iterations: ', clf_ST.n_iter_)\n",
    "print('Termination Condition: ', clf_ST.termination_condition_)\n",
    "print('')\n",
    "\n",
    "print('---------- Self Training Model - Evaluation on Test Data ----------')\n",
    "accuracy_score_ST = clf_ST.score(X_test_counts, y_test)\n",
    "print('Accuracy Score: ', accuracy_score_ST)\n",
    "# Look at classification report to evaluate the model\n",
    "print(classification_report(y_test, clf_ST.predict(X_test_counts)))"
   ]
  }
 ],
 "metadata": {
  "kernelspec": {
   "display_name": "Python 3 (ipykernel)",
   "language": "python",
   "name": "python3"
  },
  "language_info": {
   "codemirror_mode": {
    "name": "ipython",
    "version": 3
   },
   "file_extension": ".py",
   "mimetype": "text/x-python",
   "name": "python",
   "nbconvert_exporter": "python",
   "pygments_lexer": "ipython3",
   "version": "3.8.12"
  },
  "toc": {
   "base_numbering": 1,
   "nav_menu": {},
   "number_sections": true,
   "sideBar": true,
   "skip_h1_title": false,
   "title_cell": "Table of Contents",
   "title_sidebar": "Contents",
   "toc_cell": false,
   "toc_position": {},
   "toc_section_display": true,
   "toc_window_display": false
  }
 },
 "nbformat": 4,
 "nbformat_minor": 5
}
