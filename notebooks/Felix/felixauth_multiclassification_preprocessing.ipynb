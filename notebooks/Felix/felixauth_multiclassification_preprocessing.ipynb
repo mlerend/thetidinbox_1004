{
 "cells": [
  {
   "cell_type": "markdown",
   "id": "ab61f0b4",
   "metadata": {},
   "source": [
    "# Emails_multiclassification_spam"
   ]
  },
  {
   "cell_type": "markdown",
   "id": "caa3d31b",
   "metadata": {},
   "source": [
    "## Import des packages"
   ]
  },
  {
   "cell_type": "code",
   "execution_count": 2,
   "id": "b128cc24",
   "metadata": {},
   "outputs": [],
   "source": [
    "%load_ext autoreload\n",
    "%autoreload 2"
   ]
  },
  {
   "cell_type": "code",
   "execution_count": 22,
   "id": "79788553",
   "metadata": {},
   "outputs": [],
   "source": [
    "import sys\n",
    "import pandas as pd\n",
    "import matplotlib.pyplot as plt\n",
    "import re\n",
    "from string import punctuation\n",
    "from nltk.stem.snowball import SnowballStemmer\n",
    "from nltk.stem import WordNetLemmatizer\n",
    "from nltk.corpus import stopwords\n",
    "from nltk.tokenize import word_tokenize\n",
    "import random\n",
    "sys.path.insert(0, '/home/felix/code/mlerend/thetidinbox_1004/thetidinbox_1004')"
   ]
  },
  {
   "cell_type": "markdown",
   "id": "2ea9c228",
   "metadata": {},
   "source": [
    "## Import des emails"
   ]
  },
  {
   "cell_type": "code",
   "execution_count": 65,
   "id": "3f90f46f",
   "metadata": {},
   "outputs": [],
   "source": [
    "emails_df = pd.DataFrame({\"message\" : [],\n",
    "                         \"categorie\" : []})\n",
    "for i in range(1,9):\n",
    "    path_data = f'../../raw_data/enron/emails/txt_files_categories/all_txt_files{i}.txt'\n",
    "    with open(path_data) as f:\n",
    "        contents = f.read()\n",
    "    emails_cat = [email for email in contents.split(\"Message-ID: \") if email]\n",
    "    emails_df = pd.concat([emails_df, pd.DataFrame({\"message\" : emails_cat,\n",
    "                         \"categorie\" : int(i)})])"
   ]
  },
  {
   "cell_type": "markdown",
   "id": "4d960024",
   "metadata": {},
   "source": [
    "## Data exploration"
   ]
  },
  {
   "cell_type": "code",
   "execution_count": 83,
   "id": "ed5d52c6",
   "metadata": {},
   "outputs": [
    {
     "data": {
      "text/html": [
       "<div>\n",
       "<style scoped>\n",
       "    .dataframe tbody tr th:only-of-type {\n",
       "        vertical-align: middle;\n",
       "    }\n",
       "\n",
       "    .dataframe tbody tr th {\n",
       "        vertical-align: top;\n",
       "    }\n",
       "\n",
       "    .dataframe thead th {\n",
       "        text-align: right;\n",
       "    }\n",
       "</style>\n",
       "<table border=\"1\" class=\"dataframe\">\n",
       "  <thead>\n",
       "    <tr style=\"text-align: right;\">\n",
       "      <th></th>\n",
       "      <th>number of emails</th>\n",
       "      <th>% of total</th>\n",
       "    </tr>\n",
       "  </thead>\n",
       "  <tbody>\n",
       "    <tr>\n",
       "      <th>1.0</th>\n",
       "      <td>839.0</td>\n",
       "      <td>0.49</td>\n",
       "    </tr>\n",
       "    <tr>\n",
       "      <th>2.0</th>\n",
       "      <td>38.0</td>\n",
       "      <td>0.02</td>\n",
       "    </tr>\n",
       "    <tr>\n",
       "      <th>3.0</th>\n",
       "      <td>102.0</td>\n",
       "      <td>0.06</td>\n",
       "    </tr>\n",
       "    <tr>\n",
       "      <th>4.0</th>\n",
       "      <td>480.0</td>\n",
       "      <td>0.28</td>\n",
       "    </tr>\n",
       "    <tr>\n",
       "      <th>5.0</th>\n",
       "      <td>74.0</td>\n",
       "      <td>0.04</td>\n",
       "    </tr>\n",
       "    <tr>\n",
       "      <th>6.0</th>\n",
       "      <td>144.0</td>\n",
       "      <td>0.08</td>\n",
       "    </tr>\n",
       "    <tr>\n",
       "      <th>7.0</th>\n",
       "      <td>21.0</td>\n",
       "      <td>0.01</td>\n",
       "    </tr>\n",
       "    <tr>\n",
       "      <th>8.0</th>\n",
       "      <td>18.0</td>\n",
       "      <td>0.01</td>\n",
       "    </tr>\n",
       "    <tr>\n",
       "      <th>Total</th>\n",
       "      <td>1716.0</td>\n",
       "      <td>0.99</td>\n",
       "    </tr>\n",
       "  </tbody>\n",
       "</table>\n",
       "</div>"
      ],
      "text/plain": [
       "       number of emails  % of total\n",
       "1.0               839.0        0.49\n",
       "2.0                38.0        0.02\n",
       "3.0               102.0        0.06\n",
       "4.0               480.0        0.28\n",
       "5.0                74.0        0.04\n",
       "6.0               144.0        0.08\n",
       "7.0                21.0        0.01\n",
       "8.0                18.0        0.01\n",
       "Total            1716.0        0.99"
      ]
     },
     "execution_count": 83,
     "metadata": {},
     "output_type": "execute_result"
    }
   ],
   "source": [
    "num_email_per_cat = emails_df[\"categorie\"].value_counts().sort_index()\n",
    "weight_email_per_cat = emails_df[\"categorie\"].value_counts(normalize=True).sort_index()\n",
    "num_mail_df = pd.DataFrame({\"number of emails\" : num_email_per_cat.values,\n",
    "             \"% of total\" : round(weight_email_per_cat,2)}, index = num_email_per_cat.index)\n",
    "num_mail_df.loc[\"Total\"] = num_mail_df.sum()\n",
    "num_mail_df"
   ]
  },
  {
   "cell_type": "code",
   "execution_count": 88,
   "id": "4496b927",
   "metadata": {},
   "outputs": [
    {
     "name": "stdout",
     "output_type": "stream",
     "text": [
      "Le nombre moyen de mots par email est de 7369\n"
     ]
    }
   ],
   "source": [
    "avg_length = int(emails_df[\"message\"].apply(lambda x : len(x)).mean())\n",
    "print(f\"Le nombre moyen de mots par email est de {avg_length}\")"
   ]
  },
  {
   "cell_type": "code",
   "execution_count": 98,
   "id": "33ca0462",
   "metadata": {},
   "outputs": [
    {
     "data": {
      "image/png": "[encoded data removed]",
      "text/plain": [
       "<Figure size 432x288 with 1 Axes>"
      ]
     },
     "metadata": {
      "needs_background": "light"
     },
     "output_type": "display_data"
    }
   ],
   "source": [
    "plt.hist(emails_df[\"message\"].apply(lambda x : len(x)));"
   ]
  },
  {
   "cell_type": "markdown",
   "id": "9b862a39",
   "metadata": {},
   "source": [
    "## Data cleaning"
   ]
  },
  {
   "cell_type": "code",
   "execution_count": 3,
   "id": "6de0bd74",
   "metadata": {},
   "outputs": [],
   "source": [
    "def clean_email(email):\n",
    "\n",
    "    # Remove mentions\n",
    "    email = re.sub(r'@\\w+', '', email)\n",
    "    # Remove urls\n",
    "    email = re.sub(r'http\\S+', ' ', email)\n",
    "    # Remove digits\n",
    "    email = re.sub(\"\\d+\", \" \", email)\n",
    "    # Remove backline character\n",
    "    email = email.replace('\\n', ' ')\n",
    "    # Remove digits between brackets\n",
    "    email = re.sub(r'<.*>', '', email)\n",
    "    # Remove punctuations\n",
    "    email = email.translate(str.maketrans(\"\", \"\", punctuation))\n",
    "    email = email.lower()\n",
    "    \n",
    "    return email"
   ]
  },
  {
   "cell_type": "code",
   "execution_count": 132,
   "id": "cbd1e94f",
   "metadata": {},
   "outputs": [
    {
     "data": {
      "text/plain": [
       "array([' date mon   jul         pdt from stevenkeancom to rosaleeflemingcom jeffskillingcom subject jeff skillings letter from tom delay re rnsec mimeversion    contenttype textplain charsetusascii contenttransferencoding  bit xfrom steven j kean xto rosalee fleming jeff skilling xcc  xbcc  xfolder stevenkeandec  notes foldersall documents xorigin keans xfilename skeannsf  sherrie and rosie  jeff and ken both received notes from tom delay about  designating portions of their contributions for use  in texas  mr delay  would like them to make that designation using the letter below note that it  will need to be modified to be from each individually rather than a joint  letter  it is of course up to ken and jeff whether to make the  designation  forwarded by steven j keanhouees on         pm   cynthia sandherr        pm   to steven j keanhouees cc elizabeth linnellhouees carolyn cooneycorpenron joe  hillingscorpenron  subject jeff skillings letter from tom delay re rnsec  steve  per your voicemail attached is the written response suggested by  congressman delays fundraiser  we cannot per his suggested text write one  letter on behalf of both ken lay and jeff skilling due to bundling rules we  should write two separate letters and we should put it on personal  stationery and not corporate letterhead  please let carolyn or i know if you  need anything further on this  thanks cynthia    wrobold com on         pm to ccooneycom cc warrencom   subject no subject   carolyn and cynthia         you should write this letter on your letter head and direct it to joe jaso and copy tom delay jim ellis and myself all funds where money could be left in the state of texas from corporate and personal should be included  dear joe         enron mr ken lay and mr skilling are requesting that their contribution be matched per our understanding from the fax and verbal communications from warren robold this totals    between both individuals and the corporation for the rnsec matching funds program we want these funds matched in time for the texas state deadlines it was our intention from the onset of this program to have our funds go to this account the various points of contact from the rnc caused some minor confusion so checks went to texas instead of dc this is very important to mr lay and mr shilling         let us know if we need to request these funds returned and new checks written and mailed to you at your dc address you may call me if you have any questions     '],\n",
       "      dtype=object)"
      ]
     },
     "execution_count": 132,
     "metadata": {},
     "output_type": "execute_result"
    }
   ],
   "source": [
    "emails_df['message'] = emails_df['message'].apply(clean_email)\n",
    "emails_df.sample(1)[\"message\"].values"
   ]
  },
  {
   "cell_type": "markdown",
   "id": "a5ddf934",
   "metadata": {},
   "source": [
    "# Emails_multiclassification_Enron"
   ]
  },
  {
   "cell_type": "code",
   "execution_count": 60,
   "id": "7dd0dba5",
   "metadata": {},
   "outputs": [],
   "source": [
    "emails_df_m = pd.read_csv(\"../Marine/cleaned_emails.csv\")\n",
    "emails_df_m_cleaned = emails_df_m.copy()"
   ]
  },
  {
   "cell_type": "markdown",
   "id": "f734e895",
   "metadata": {},
   "source": [
    "## Cleaning"
   ]
  },
  {
   "cell_type": "code",
   "execution_count": 61,
   "id": "0682ad9c",
   "metadata": {},
   "outputs": [],
   "source": [
    "emails_df_m_cleaned = emails_df_m_cleaned.loc[emails_df_m[\"MessContents\"].notna()]\n",
    "\n",
    "emails_df_m_cleaned[\"MessContents\"] = emails_df_m_cleaned[\"MessContents\"].apply(clean_email)"
   ]
  },
  {
   "cell_type": "markdown",
   "id": "dd521781",
   "metadata": {},
   "source": [
    "## Stopwords removal"
   ]
  },
  {
   "cell_type": "markdown",
   "id": "0e6b971c",
   "metadata": {},
   "source": [
    "Removing English stopwords"
   ]
  },
  {
   "cell_type": "code",
   "execution_count": 62,
   "id": "a1d47a99",
   "metadata": {},
   "outputs": [],
   "source": [
    "def stopword_removal(email):\n",
    "\n",
    "    stop_words = set(stopwords.words('english')) \n",
    "\n",
    "    email = email.split()\n",
    "    filtered_sentence = \"\"\n",
    "\n",
    "    for w in email: \n",
    "        if w not in stop_words: \n",
    "            filtered_sentence = filtered_sentence + w +\" \"\n",
    "\n",
    "    return filtered_sentence"
   ]
  },
  {
   "cell_type": "code",
   "execution_count": 63,
   "id": "f47c5abc",
   "metadata": {},
   "outputs": [],
   "source": [
    "emails_df_m_cleaned['MessContents'] = emails_df_m_cleaned['MessContents'].apply(stopword_removal)"
   ]
  },
  {
   "cell_type": "markdown",
   "id": "481e14f4",
   "metadata": {},
   "source": [
    "## Tokenizing"
   ]
  },
  {
   "cell_type": "markdown",
   "id": "e32c306f",
   "metadata": {},
   "source": [
    "Transforming string into a list of words"
   ]
  },
  {
   "cell_type": "code",
   "execution_count": 64,
   "id": "942c32be",
   "metadata": {},
   "outputs": [],
   "source": [
    "emails_df_m_cleaned['MessContents'] = emails_df_m_cleaned['MessContents'].apply(word_tokenize)"
   ]
  },
  {
   "cell_type": "markdown",
   "id": "3c3d7e16",
   "metadata": {},
   "source": [
    "## Lemmatizing"
   ]
  },
  {
   "cell_type": "code",
   "execution_count": 65,
   "id": "6b1123ee",
   "metadata": {},
   "outputs": [],
   "source": [
    "def lemmatizing(email):\n",
    "    \n",
    "    # 1 - Lemmating the verbs\n",
    "    verb_lemmatized = [                  \n",
    "    WordNetLemmatizer().lemmatize(word, pos = \"v\") # v --> verbs\n",
    "    for word in email   \n",
    "    ]\n",
    "\n",
    "    # 2 - Lemmatizing the nouns\n",
    "    noun_lemmatized = [                 \n",
    "    WordNetLemmatizer().lemmatize(word, pos = \"n\") # n --> nouns\n",
    "    for word in verb_lemmatized\n",
    "    ]\n",
    "    \n",
    "    return noun_lemmatized"
   ]
  },
  {
   "cell_type": "code",
   "execution_count": 66,
   "id": "77aa4341",
   "metadata": {},
   "outputs": [],
   "source": [
    "emails_df_m_cleaned['MessContents'] = emails_df_m_cleaned['MessContents'].apply(lemmatizing)"
   ]
  },
  {
   "cell_type": "markdown",
   "id": "9094f57b",
   "metadata": {},
   "source": [
    "## Example"
   ]
  },
  {
   "cell_type": "code",
   "execution_count": 67,
   "id": "a57b007b",
   "metadata": {},
   "outputs": [
    {
     "data": {
      "text/plain": [
       "316"
      ]
     },
     "execution_count": 67,
     "metadata": {},
     "output_type": "execute_result"
    }
   ],
   "source": [
    "random_email_num = random.randint(0,len(emails_df_m_cleaned))\n",
    "random_email_num"
   ]
  },
  {
   "cell_type": "markdown",
   "id": "27fdcb61",
   "metadata": {},
   "source": [
    "### Before cleaning"
   ]
  },
  {
   "cell_type": "code",
   "execution_count": 68,
   "id": "a7a719e5",
   "metadata": {},
   "outputs": [
    {
     "data": {
      "text/plain": [
       "'To:WILLIAMS, WILLIAMEmail:bwillia5@enron.com - 503-464-3730 Enron Wholesale Services - Office of the Chairman From:  Mark Frevert, Chairman & CEO      Mark Haedicke, Managing Director & General Counsel Subject:  Confidential Information and Securities Trading To keep pace with the fluid and fast-changing demands of our equity trading activities, Enron Wholesale Services (\"EWS\") has recently revised its official Policies and Procedures Regarding Confidential Information and Securities Trading (\"Policies and Procedures\").These revisions reflect two major developments: (1) our equity trading activities have been extended into the United Kingdom, and (2) in an effort to streamline the information flow process, the \"Review Team\" will play a more centralized role, so that the role of the \"Resource Group\" is no longer necessary.You are required to become familiar with, and to comply with, the Policies and Procedures.The newly revised Policies and Procedures are available for your review on LegalOnline, the new intranet website maintained by the Enron Wholesale Services Legal Department.Please click on the attached link to access LegalOnline:http://legalonline.corp.enron.com/chinesewall.asp  If you have already certified compliance with the Policies and Procedures during the 2001 calendar year, you need not re-certify at this time, although you are still required to to review and become familiar with the revised Policies and Procedures.If you have not certified compliance with the Policies and Procedures during the 2001 calendar year, then you must do so within two weeks of your receipt of this message.The LegalOnline site will allow you to quickly and conveniently certify your compliance on-line with your SAP Personal ID number.If you have any questions concerning the Policies or Procedures, please call Bob Bruce at extension 5-7780 or Donna Lowry at extension 3-1939. '"
      ]
     },
     "execution_count": 68,
     "metadata": {},
     "output_type": "execute_result"
    }
   ],
   "source": [
    "emails_df_m.loc[random_email_num,\"MessContents\"]"
   ]
  },
  {
   "cell_type": "markdown",
   "id": "0cac6446",
   "metadata": {},
   "source": [
    "### After cleaning"
   ]
  },
  {
   "cell_type": "code",
   "execution_count": 69,
   "id": "c57c9da5",
   "metadata": {},
   "outputs": [
    {
     "data": {
      "text/plain": [
       "['towilliams',\n",
       " 'williamemailbwillia',\n",
       " 'com',\n",
       " 'enron',\n",
       " 'wholesale',\n",
       " 'service',\n",
       " 'office',\n",
       " 'chairman',\n",
       " 'mark',\n",
       " 'frevert',\n",
       " 'chairman',\n",
       " 'ceo',\n",
       " 'mark',\n",
       " 'haedicke',\n",
       " 'manage',\n",
       " 'director',\n",
       " 'general',\n",
       " 'counsel',\n",
       " 'subject',\n",
       " 'confidential',\n",
       " 'information',\n",
       " 'security',\n",
       " 'trade',\n",
       " 'keep',\n",
       " 'pace',\n",
       " 'fluid',\n",
       " 'fastchanging',\n",
       " 'demand',\n",
       " 'equity',\n",
       " 'trade',\n",
       " 'activity',\n",
       " 'enron',\n",
       " 'wholesale',\n",
       " 'service',\n",
       " 'ew',\n",
       " 'recently',\n",
       " 'revise',\n",
       " 'official',\n",
       " 'policy',\n",
       " 'procedure',\n",
       " 'regard',\n",
       " 'confidential',\n",
       " 'information',\n",
       " 'security',\n",
       " 'trade',\n",
       " 'policy',\n",
       " 'proceduresthese',\n",
       " 'revision',\n",
       " 'reflect',\n",
       " 'two',\n",
       " 'major',\n",
       " 'development',\n",
       " 'equity',\n",
       " 'trade',\n",
       " 'activity',\n",
       " 'extend',\n",
       " 'unite',\n",
       " 'kingdom',\n",
       " 'effort',\n",
       " 'streamline',\n",
       " 'information',\n",
       " 'flow',\n",
       " 'process',\n",
       " 'review',\n",
       " 'team',\n",
       " 'play',\n",
       " 'centralize',\n",
       " 'role',\n",
       " 'role',\n",
       " 'resource',\n",
       " 'group',\n",
       " 'longer',\n",
       " 'necessaryyou',\n",
       " 'require',\n",
       " 'become',\n",
       " 'familiar',\n",
       " 'comply',\n",
       " 'policy',\n",
       " 'proceduresthe',\n",
       " 'newly',\n",
       " 'revise',\n",
       " 'policy',\n",
       " 'procedure',\n",
       " 'available',\n",
       " 'review',\n",
       " 'legalonline',\n",
       " 'new',\n",
       " 'intranet',\n",
       " 'website',\n",
       " 'maintain',\n",
       " 'enron',\n",
       " 'wholesale',\n",
       " 'service',\n",
       " 'legal',\n",
       " 'departmentplease',\n",
       " 'click',\n",
       " 'attach',\n",
       " 'link',\n",
       " 'access',\n",
       " 'legalonline',\n",
       " 'already',\n",
       " 'certify',\n",
       " 'compliance',\n",
       " 'policy',\n",
       " 'procedure',\n",
       " 'calendar',\n",
       " 'year',\n",
       " 'need',\n",
       " 'recertify',\n",
       " 'time',\n",
       " 'although',\n",
       " 'still',\n",
       " 'require',\n",
       " 'review',\n",
       " 'become',\n",
       " 'familiar',\n",
       " 'revise',\n",
       " 'policy',\n",
       " 'proceduresif',\n",
       " 'certify',\n",
       " 'compliance',\n",
       " 'policy',\n",
       " 'procedure',\n",
       " 'calendar',\n",
       " 'year',\n",
       " 'must',\n",
       " 'within',\n",
       " 'two',\n",
       " 'week',\n",
       " 'receipt',\n",
       " 'messagethe',\n",
       " 'legalonline',\n",
       " 'site',\n",
       " 'allow',\n",
       " 'quickly',\n",
       " 'conveniently',\n",
       " 'certify',\n",
       " 'compliance',\n",
       " 'online',\n",
       " 'sap',\n",
       " 'personal',\n",
       " 'id',\n",
       " 'numberif',\n",
       " 'question',\n",
       " 'concern',\n",
       " 'policy',\n",
       " 'procedure',\n",
       " 'please',\n",
       " 'call',\n",
       " 'bob',\n",
       " 'bruce',\n",
       " 'extension',\n",
       " 'donna',\n",
       " 'lowry',\n",
       " 'extension']"
      ]
     },
     "execution_count": 69,
     "metadata": {},
     "output_type": "execute_result"
    }
   ],
   "source": [
    "emails_df_m_cleaned.loc[random_email_num,\"MessContents\"]"
   ]
  },
  {
   "cell_type": "markdown",
   "id": "afd64eeb",
   "metadata": {},
   "source": [
    "## Export csv"
   ]
  },
  {
   "cell_type": "code",
   "execution_count": null,
   "id": "6ece3b69",
   "metadata": {},
   "outputs": [],
   "source": []
  }
 ],
 "metadata": {
  "kernelspec": {
   "display_name": "Python 3 (ipykernel)",
   "language": "python",
   "name": "python3"
  },
  "language_info": {
   "codemirror_mode": {
    "name": "ipython",
    "version": 3
   },
   "file_extension": ".py",
   "mimetype": "text/x-python",
   "name": "python",
   "nbconvert_exporter": "python",
   "pygments_lexer": "ipython3",
   "version": "3.8.12"
  },
  "toc": {
   "base_numbering": 1,
   "nav_menu": {},
   "number_sections": true,
   "sideBar": true,
   "skip_h1_title": false,
   "title_cell": "Table of Contents",
   "title_sidebar": "Contents",
   "toc_cell": false,
   "toc_position": {},
   "toc_section_display": true,
   "toc_window_display": false
  }
 },
 "nbformat": 4,
 "nbformat_minor": 5
}
