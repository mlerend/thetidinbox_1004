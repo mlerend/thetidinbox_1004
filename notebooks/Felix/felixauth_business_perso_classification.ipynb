{
 "cells": [
  {
   "cell_type": "markdown",
   "id": "62220f50",
   "metadata": {},
   "source": [
    "# Import packages"
   ]
  },
  {
   "cell_type": "code",
   "execution_count": 96,
   "id": "afb04eed",
   "metadata": {},
   "outputs": [],
   "source": [
    "import numpy as np\n",
    "import pandas as pd\n",
    "import matplotlib.pyplot as plt\n",
    "from math import sqrt\n",
    "import re\n",
    "from string import punctuation\n",
    "from nltk.stem.snowball import SnowballStemmer\n",
    "from nltk.stem import WordNetLemmatizer\n",
    "from nltk.corpus import stopwords\n",
    "from nltk.tokenize import word_tokenize\n",
    "import nltk\n",
    "#nltk.download('words')\n",
    "import random\n",
    "import mailparser\n",
    "import requests\n",
    "\n",
    "from sklearn import metrics\n",
    "from sklearn.metrics import confusion_matrix\n",
    "from sklearn.metrics import accuracy_score, precision_score, recall_score\n",
    "from sklearn.metrics import mean_squared_error\n",
    "from sklearn.naive_bayes import MultinomialNB\n",
    "from sklearn.neighbors import KNeighborsClassifier\n",
    "from sklearn.linear_model import LogisticRegression\n",
    "from sklearn.pipeline import Pipeline\n",
    "from sklearn.model_selection import cross_val_score\n",
    "from sklearn.metrics import classification_report # for model evaluation metrics\n",
    "from sklearn.model_selection import train_test_split\n",
    "from sklearn.model_selection import cross_val_predict\n",
    "from sklearn.model_selection import GridSearchCV\n",
    "from sklearn.feature_extraction.text import CountVectorizer\n",
    "from sklearn.feature_extraction.text import TfidfVectorizer\n",
    "from sklearn.feature_extraction.text import TfidfTransformer"
   ]
  },
  {
   "cell_type": "markdown",
   "id": "24414c30",
   "metadata": {},
   "source": [
    "# Import Enron emails"
   ]
  },
  {
   "cell_type": "markdown",
   "id": "22657af5",
   "metadata": {},
   "source": [
    "## Import originally labeled emails"
   ]
  },
  {
   "cell_type": "code",
   "execution_count": 97,
   "id": "40c6f718",
   "metadata": {},
   "outputs": [],
   "source": [
    "emails_df = pd.DataFrame({\"message\" : [],\n",
    "                         \"category\" : []})\n",
    "for i in range(1,9):\n",
    "    path_data = f'../../raw_data/enron/emails/txt_files_categories/all_txt_files{i}.txt'\n",
    "    with open(path_data) as f:\n",
    "        contents = f.read()\n",
    "        emails_cat = [\"Message-ID: \" + email for email in contents.split(\"Message-ID: \") if email]\n",
    "        emails_df = pd.concat([emails_df, pd.DataFrame({\"message\" : emails_cat,\n",
    "                         \"category\" : int(i)})]).reset_index(drop=True)"
   ]
  },
  {
   "cell_type": "markdown",
   "id": "7c1db241",
   "metadata": {},
   "source": [
    "## Import model-labeled emails"
   ]
  },
  {
   "cell_type": "code",
   "execution_count": 98,
   "id": "462c6849",
   "metadata": {},
   "outputs": [],
   "source": [
    "emails_model_df = pd.read_csv(\"new_emails_labeled.csv\")\n",
    "emails_model_df[\"category\"] = 0"
   ]
  },
  {
   "cell_type": "markdown",
   "id": "07037653",
   "metadata": {},
   "source": [
    "# Import conversational messages"
   ]
  },
  {
   "cell_type": "code",
   "execution_count": 99,
   "id": "05410bc8",
   "metadata": {},
   "outputs": [
    {
     "data": {
      "text/html": [
       "<div>\n",
       "<style scoped>\n",
       "    .dataframe tbody tr th:only-of-type {\n",
       "        vertical-align: middle;\n",
       "    }\n",
       "\n",
       "    .dataframe tbody tr th {\n",
       "        vertical-align: top;\n",
       "    }\n",
       "\n",
       "    .dataframe thead th {\n",
       "        text-align: right;\n",
       "    }\n",
       "</style>\n",
       "<table border=\"1\" class=\"dataframe\">\n",
       "  <thead>\n",
       "    <tr style=\"text-align: right;\">\n",
       "      <th></th>\n",
       "      <th>body</th>\n",
       "    </tr>\n",
       "  </thead>\n",
       "  <tbody>\n",
       "    <tr>\n",
       "      <th>0</th>\n",
       "      <td>Are you a fan of Google or Microsoft?</td>\n",
       "    </tr>\n",
       "    <tr>\n",
       "      <th>1</th>\n",
       "      <td>Both are excellent technology they are helpful...</td>\n",
       "    </tr>\n",
       "    <tr>\n",
       "      <th>2</th>\n",
       "      <td>I'm not  a huge fan of Google, but I use it a ...</td>\n",
       "    </tr>\n",
       "    <tr>\n",
       "      <th>3</th>\n",
       "      <td>Google provides online related services and pr...</td>\n",
       "    </tr>\n",
       "    <tr>\n",
       "      <th>4</th>\n",
       "      <td>Yeah, their services are good. I'm just not a ...</td>\n",
       "    </tr>\n",
       "  </tbody>\n",
       "</table>\n",
       "</div>"
      ],
      "text/plain": [
       "                                                body\n",
       "0              Are you a fan of Google or Microsoft?\n",
       "1  Both are excellent technology they are helpful...\n",
       "2  I'm not  a huge fan of Google, but I use it a ...\n",
       "3  Google provides online related services and pr...\n",
       "4  Yeah, their services are good. I'm just not a ..."
      ]
     },
     "execution_count": 99,
     "metadata": {},
     "output_type": "execute_result"
    }
   ],
   "source": [
    "r = requests.get('https://raw.githubusercontent.com/alexa/Topical-Chat/master/conversations/train.json').json()\n",
    "\n",
    "message_l = []\n",
    "for key in r.keys():\n",
    "    for message in r[key]['content']:\n",
    "        message_l.append(message[\"message\"])\n",
    "conv_message_df = pd.DataFrame({\"body\":message_l})\n",
    "conv_message_df.head()"
   ]
  },
  {
   "cell_type": "code",
   "execution_count": 100,
   "id": "0257d549",
   "metadata": {},
   "outputs": [
    {
     "data": {
      "text/plain": [
       "'I watch some netflix and some hulu every now and then. I just finished the second season for The Handmaids tale.'"
      ]
     },
     "execution_count": 100,
     "metadata": {},
     "output_type": "execute_result"
    }
   ],
   "source": [
    "conv_message_df.sample()[\"body\"].values[0]"
   ]
  },
  {
   "cell_type": "markdown",
   "id": "c0f8b32f",
   "metadata": {
    "heading_collapsed": true
   },
   "source": [
    "## Testing other dataset..."
   ]
  },
  {
   "cell_type": "code",
   "execution_count": 101,
   "id": "de7a5fcf",
   "metadata": {
    "hidden": true
   },
   "outputs": [
    {
     "data": {
      "text/plain": [
       "'?? Puma Sneakers for *Rs.1079* [MRP Rs.2699]  *Size 10 Only*  http://amzn.to/2p5DpGX'"
      ]
     },
     "execution_count": 101,
     "metadata": {},
     "output_type": "execute_result"
    }
   ],
   "source": [
    "path_data = '../../raw_data/Social Conversation (csv).csv'\n",
    "df_test = pd.read_csv(path_data, encoding=\"Latin-1\")\n",
    "df_test.sample()[\"??\"].values[0]"
   ]
  },
  {
   "cell_type": "code",
   "execution_count": 102,
   "id": "ad2fbb4f",
   "metadata": {
    "hidden": true
   },
   "outputs": [
    {
     "data": {
      "text/plain": [
       "'UNCLASSIFIED U.S. Department of State Case No. F-2014-20439 Doc No. C05766685 Date: 08/31/2015\\nRELEASE IN\\nFULL\\nFrom: Mills, Cheryl D <MillsCD@state.gov>\\nSent: Sunday, January 31, 2010 7:53 AM\\nTo: H\\nSubject Running a few min late\\nUNCLASSIFIED U.S. Department of State Case No. F-2014-20439 Doc No. C05766685 Date: 08/31/2015\\n\\x0c'"
      ]
     },
     "execution_count": 102,
     "metadata": {},
     "output_type": "execute_result"
    }
   ],
   "source": [
    "path_data = '../../raw_data/Emails.csv'\n",
    "df_test = pd.read_csv(path_data, encoding=\"Latin-1\")\n",
    "df_test.sample()[\"RawText\"].values[0]"
   ]
  },
  {
   "cell_type": "markdown",
   "id": "9bd9c95d",
   "metadata": {},
   "source": [
    "# Parsing emails"
   ]
  },
  {
   "cell_type": "code",
   "execution_count": 103,
   "id": "b095d49b",
   "metadata": {},
   "outputs": [],
   "source": [
    "def extract_date(email):\n",
    "    mail = mailparser.parse_from_string(email)\n",
    "    date = mail.date\n",
    "    return date\n",
    "\n",
    "def extract_sender(email):\n",
    "    mail = mailparser.parse_from_string(email)\n",
    "    if len(mail.from_) > 0:\n",
    "        sender = mail.from_[0][1]\n",
    "    else:\n",
    "        sender = mail.from_\n",
    "    return sender\n",
    "\n",
    "def extract_recipients(email):\n",
    "    mail = mailparser.parse_from_string(email)\n",
    "    if len(mail.to) > 0:\n",
    "        to = \",\".join([rec[1] for rec in mail.to])\n",
    "    else:\n",
    "        to = mail.to\n",
    "    return to\n",
    "\n",
    "def extract_header(email):\n",
    "    mail = mailparser.parse_from_string(email)\n",
    "    header = mail.subject\n",
    "    return header\n",
    "\n",
    "def extract_body(email):\n",
    "    mail = mailparser.parse_from_string(email)\n",
    "    body = mail.body\n",
    "    return body"
   ]
  },
  {
   "cell_type": "markdown",
   "id": "747387ce",
   "metadata": {},
   "source": [
    "**Parsing labeled emails**"
   ]
  },
  {
   "cell_type": "code",
   "execution_count": 104,
   "id": "90e792a1",
   "metadata": {},
   "outputs": [
    {
     "name": "stderr",
     "output_type": "stream",
     "text": [
      "Email content 'mixed' not handled\n",
      "Email content 'mixed' not handled\n",
      "Email content 'alternative' not handled\n",
      "Email content 'alternative' not handled\n",
      "Email content 'mixed' not handled\n",
      "Email content 'mixed' not handled\n",
      "Email content 'mixed' not handled\n",
      "Email content 'mixed' not handled\n",
      "Email content 'alternative' not handled\n",
      "Email content 'alternative' not handled\n",
      "Email content 'mixed' not handled\n",
      "Email content 'mixed' not handled\n",
      "Email content 'mixed' not handled\n",
      "Email content 'mixed' not handled\n",
      "Email content 'alternative' not handled\n",
      "Email content 'alternative' not handled\n",
      "Email content 'mixed' not handled\n",
      "Email content 'mixed' not handled\n",
      "Email content 'mixed' not handled\n",
      "Email content 'mixed' not handled\n",
      "Email content 'alternative' not handled\n",
      "Email content 'alternative' not handled\n",
      "Email content 'mixed' not handled\n",
      "Email content 'mixed' not handled\n",
      "Email content 'mixed' not handled\n",
      "Email content 'mixed' not handled\n",
      "Email content 'alternative' not handled\n",
      "Email content 'alternative' not handled\n",
      "Email content 'mixed' not handled\n",
      "Email content 'mixed' not handled\n"
     ]
    },
    {
     "data": {
      "text/html": [
       "<div>\n",
       "<style scoped>\n",
       "    .dataframe tbody tr th:only-of-type {\n",
       "        vertical-align: middle;\n",
       "    }\n",
       "\n",
       "    .dataframe tbody tr th {\n",
       "        vertical-align: top;\n",
       "    }\n",
       "\n",
       "    .dataframe thead th {\n",
       "        text-align: right;\n",
       "    }\n",
       "</style>\n",
       "<table border=\"1\" class=\"dataframe\">\n",
       "  <thead>\n",
       "    <tr style=\"text-align: right;\">\n",
       "      <th></th>\n",
       "      <th>ID</th>\n",
       "      <th>date</th>\n",
       "      <th>from</th>\n",
       "      <th>to</th>\n",
       "      <th>header</th>\n",
       "      <th>body</th>\n",
       "      <th>category</th>\n",
       "    </tr>\n",
       "  </thead>\n",
       "  <tbody>\n",
       "    <tr>\n",
       "      <th>0</th>\n",
       "      <td>197504</td>\n",
       "      <td>1999-10-18 08:47:00</td>\n",
       "      <td>steven.kean@enron.com</td>\n",
       "      <td>mark.schroeder@enron.com,kenneth.lay@enron.com...</td>\n",
       "      <td>Translation of articles</td>\n",
       "      <td>---------------------- Forwarded by Steven J K...</td>\n",
       "      <td>1.0</td>\n",
       "    </tr>\n",
       "    <tr>\n",
       "      <th>1</th>\n",
       "      <td>11991339</td>\n",
       "      <td>2001-03-05 16:23:00</td>\n",
       "      <td>drew.fossum@enron.com</td>\n",
       "      <td>darrell.schoolcraft@enron.com</td>\n",
       "      <td>TW Gas Sales: PRIVILEGED AND CONFIDENTIAL ATTO...</td>\n",
       "      <td>In anticipation of potential litigation involv...</td>\n",
       "      <td>1.0</td>\n",
       "    </tr>\n",
       "    <tr>\n",
       "      <th>2</th>\n",
       "      <td>7106753</td>\n",
       "      <td>2001-03-06 08:59:00</td>\n",
       "      <td>drew.fossum@enron.com</td>\n",
       "      <td>julia.white@enron.com,steven.january@enron.com</td>\n",
       "      <td>TW Gas Sales: PRIVILEGED AND CONFIDENTIAL ATTO...</td>\n",
       "      <td>Julia and Steve--here are some questions I've ...</td>\n",
       "      <td>1.0</td>\n",
       "    </tr>\n",
       "    <tr>\n",
       "      <th>3</th>\n",
       "      <td>21267718</td>\n",
       "      <td>2001-03-06 19:59:00</td>\n",
       "      <td>drew.fossum@enron.com</td>\n",
       "      <td>julia.white@enron.com,steven.january@enron.com</td>\n",
       "      <td>TW Gas Sales: PRIVILEGED AND CONFIDENTIAL ATTO...</td>\n",
       "      <td>Julia and Steve--here are some questions I've ...</td>\n",
       "      <td>1.0</td>\n",
       "    </tr>\n",
       "    <tr>\n",
       "      <th>4</th>\n",
       "      <td>20866019</td>\n",
       "      <td>2001-03-06 03:23:00</td>\n",
       "      <td>drew.fossum@enron.com</td>\n",
       "      <td>darrell.schoolcraft@enron.com</td>\n",
       "      <td>TW Gas Sales: PRIVILEGED AND CONFIDENTIAL ATTO...</td>\n",
       "      <td>In anticipation of potential litigation involv...</td>\n",
       "      <td>1.0</td>\n",
       "    </tr>\n",
       "  </tbody>\n",
       "</table>\n",
       "</div>"
      ],
      "text/plain": [
       "         ID                date                   from  \\\n",
       "0    197504 1999-10-18 08:47:00  steven.kean@enron.com   \n",
       "1  11991339 2001-03-05 16:23:00  drew.fossum@enron.com   \n",
       "2   7106753 2001-03-06 08:59:00  drew.fossum@enron.com   \n",
       "3  21267718 2001-03-06 19:59:00  drew.fossum@enron.com   \n",
       "4  20866019 2001-03-06 03:23:00  drew.fossum@enron.com   \n",
       "\n",
       "                                                  to  \\\n",
       "0  mark.schroeder@enron.com,kenneth.lay@enron.com...   \n",
       "1                      darrell.schoolcraft@enron.com   \n",
       "2     julia.white@enron.com,steven.january@enron.com   \n",
       "3     julia.white@enron.com,steven.january@enron.com   \n",
       "4                      darrell.schoolcraft@enron.com   \n",
       "\n",
       "                                              header  \\\n",
       "0                            Translation of articles   \n",
       "1  TW Gas Sales: PRIVILEGED AND CONFIDENTIAL ATTO...   \n",
       "2  TW Gas Sales: PRIVILEGED AND CONFIDENTIAL ATTO...   \n",
       "3  TW Gas Sales: PRIVILEGED AND CONFIDENTIAL ATTO...   \n",
       "4  TW Gas Sales: PRIVILEGED AND CONFIDENTIAL ATTO...   \n",
       "\n",
       "                                                body  category  \n",
       "0  ---------------------- Forwarded by Steven J K...       1.0  \n",
       "1  In anticipation of potential litigation involv...       1.0  \n",
       "2  Julia and Steve--here are some questions I've ...       1.0  \n",
       "3  Julia and Steve--here are some questions I've ...       1.0  \n",
       "4  In anticipation of potential litigation involv...       1.0  "
      ]
     },
     "execution_count": 104,
     "metadata": {},
     "output_type": "execute_result"
    }
   ],
   "source": [
    "emails_df_parsed = pd.DataFrame()\n",
    "emails_df_parsed[\"ID\"] = emails_df[\"message\"].apply(lambda x: re.search(r'\\d+',x)[0])\n",
    "emails_df_parsed[\"date\"] = emails_df[\"message\"].apply(extract_date)\n",
    "emails_df_parsed[\"from\"] = emails_df[\"message\"].apply(extract_sender)\n",
    "emails_df_parsed[\"to\"] = emails_df[\"message\"].apply(extract_recipients)\n",
    "emails_df_parsed[\"header\"] = emails_df[\"message\"].apply(extract_header)\n",
    "emails_df_parsed[\"body\"] = emails_df[\"message\"].apply(extract_body)\n",
    "emails_df_parsed[\"category\"] = emails_df[\"category\"]\n",
    "emails_df_parsed.head()"
   ]
  },
  {
   "cell_type": "markdown",
   "id": "048a219a",
   "metadata": {},
   "source": [
    "# EDA emails\n"
   ]
  },
  {
   "cell_type": "code",
   "execution_count": 105,
   "id": "7fd80c5a",
   "metadata": {},
   "outputs": [
    {
     "data": {
      "text/html": [
       "<div>\n",
       "<style scoped>\n",
       "    .dataframe tbody tr th:only-of-type {\n",
       "        vertical-align: middle;\n",
       "    }\n",
       "\n",
       "    .dataframe tbody tr th {\n",
       "        vertical-align: top;\n",
       "    }\n",
       "\n",
       "    .dataframe thead th {\n",
       "        text-align: right;\n",
       "    }\n",
       "</style>\n",
       "<table border=\"1\" class=\"dataframe\">\n",
       "  <thead>\n",
       "    <tr style=\"text-align: right;\">\n",
       "      <th></th>\n",
       "      <th>number of emails</th>\n",
       "      <th>% of total</th>\n",
       "    </tr>\n",
       "  </thead>\n",
       "  <tbody>\n",
       "    <tr>\n",
       "      <th>1.0</th>\n",
       "      <td>839.0</td>\n",
       "      <td>0.49</td>\n",
       "    </tr>\n",
       "    <tr>\n",
       "      <th>2.0</th>\n",
       "      <td>38.0</td>\n",
       "      <td>0.02</td>\n",
       "    </tr>\n",
       "    <tr>\n",
       "      <th>3.0</th>\n",
       "      <td>102.0</td>\n",
       "      <td>0.06</td>\n",
       "    </tr>\n",
       "    <tr>\n",
       "      <th>4.0</th>\n",
       "      <td>480.0</td>\n",
       "      <td>0.28</td>\n",
       "    </tr>\n",
       "    <tr>\n",
       "      <th>5.0</th>\n",
       "      <td>74.0</td>\n",
       "      <td>0.04</td>\n",
       "    </tr>\n",
       "    <tr>\n",
       "      <th>6.0</th>\n",
       "      <td>144.0</td>\n",
       "      <td>0.08</td>\n",
       "    </tr>\n",
       "    <tr>\n",
       "      <th>7.0</th>\n",
       "      <td>21.0</td>\n",
       "      <td>0.01</td>\n",
       "    </tr>\n",
       "    <tr>\n",
       "      <th>8.0</th>\n",
       "      <td>18.0</td>\n",
       "      <td>0.01</td>\n",
       "    </tr>\n",
       "    <tr>\n",
       "      <th>Total</th>\n",
       "      <td>1716.0</td>\n",
       "      <td>0.99</td>\n",
       "    </tr>\n",
       "  </tbody>\n",
       "</table>\n",
       "</div>"
      ],
      "text/plain": [
       "       number of emails  % of total\n",
       "1.0               839.0        0.49\n",
       "2.0                38.0        0.02\n",
       "3.0               102.0        0.06\n",
       "4.0               480.0        0.28\n",
       "5.0                74.0        0.04\n",
       "6.0               144.0        0.08\n",
       "7.0                21.0        0.01\n",
       "8.0                18.0        0.01\n",
       "Total            1716.0        0.99"
      ]
     },
     "execution_count": 105,
     "metadata": {},
     "output_type": "execute_result"
    }
   ],
   "source": [
    "num_email_per_cat = emails_df_parsed[\"category\"].value_counts().sort_index()\n",
    "weight_email_per_cat = emails_df_parsed[\"category\"].value_counts(normalize=True).sort_index()\n",
    "num_mail_df = pd.DataFrame({\"number of emails\" : num_email_per_cat.values,\n",
    "             \"% of total\" : round(weight_email_per_cat,2)}, index = num_email_per_cat.index)\n",
    "num_mail_df.loc[\"Total\"] = num_mail_df.sum()\n",
    "num_mail_df"
   ]
  },
  {
   "cell_type": "markdown",
   "id": "a9141463",
   "metadata": {},
   "source": [
    "Keeping only **business-related** categories and attributing **category 0** for these emails:"
   ]
  },
  {
   "cell_type": "code",
   "execution_count": 106,
   "id": "43ebfd43",
   "metadata": {},
   "outputs": [
    {
     "data": {
      "text/html": [
       "<div>\n",
       "<style scoped>\n",
       "    .dataframe tbody tr th:only-of-type {\n",
       "        vertical-align: middle;\n",
       "    }\n",
       "\n",
       "    .dataframe tbody tr th {\n",
       "        vertical-align: top;\n",
       "    }\n",
       "\n",
       "    .dataframe thead th {\n",
       "        text-align: right;\n",
       "    }\n",
       "</style>\n",
       "<table border=\"1\" class=\"dataframe\">\n",
       "  <thead>\n",
       "    <tr style=\"text-align: right;\">\n",
       "      <th></th>\n",
       "      <th>body</th>\n",
       "      <th>category</th>\n",
       "    </tr>\n",
       "  </thead>\n",
       "  <tbody>\n",
       "    <tr>\n",
       "      <th>0</th>\n",
       "      <td>---------------------- Forwarded by Steven J K...</td>\n",
       "      <td>0</td>\n",
       "    </tr>\n",
       "    <tr>\n",
       "      <th>1</th>\n",
       "      <td>In anticipation of potential litigation involv...</td>\n",
       "      <td>0</td>\n",
       "    </tr>\n",
       "    <tr>\n",
       "      <th>2</th>\n",
       "      <td>Julia and Steve--here are some questions I've ...</td>\n",
       "      <td>0</td>\n",
       "    </tr>\n",
       "    <tr>\n",
       "      <th>3</th>\n",
       "      <td>Julia and Steve--here are some questions I've ...</td>\n",
       "      <td>0</td>\n",
       "    </tr>\n",
       "    <tr>\n",
       "      <th>4</th>\n",
       "      <td>In anticipation of potential litigation involv...</td>\n",
       "      <td>0</td>\n",
       "    </tr>\n",
       "  </tbody>\n",
       "</table>\n",
       "</div>"
      ],
      "text/plain": [
       "                                                body  category\n",
       "0  ---------------------- Forwarded by Steven J K...         0\n",
       "1  In anticipation of potential litigation involv...         0\n",
       "2  Julia and Steve--here are some questions I've ...         0\n",
       "3  Julia and Steve--here are some questions I've ...         0\n",
       "4  In anticipation of potential litigation involv...         0"
      ]
     },
     "execution_count": 106,
     "metadata": {},
     "output_type": "execute_result"
    }
   ],
   "source": [
    "emails_business_df = emails_df_parsed[emails_df_parsed[\"category\"].isin([1,4,5,6])][[\"body\",\"category\"]]\n",
    "emails_business_df[\"category\"] = 0\n",
    "emails_business_df.head()"
   ]
  },
  {
   "cell_type": "markdown",
   "id": "460768ef",
   "metadata": {},
   "source": [
    "# EDA conversational messages"
   ]
  },
  {
   "cell_type": "markdown",
   "id": "c452a998",
   "metadata": {},
   "source": [
    "Affecting **category 1** to conversational messages :"
   ]
  },
  {
   "cell_type": "code",
   "execution_count": 107,
   "id": "8a4c1d89",
   "metadata": {},
   "outputs": [
    {
     "data": {
      "text/html": [
       "<div>\n",
       "<style scoped>\n",
       "    .dataframe tbody tr th:only-of-type {\n",
       "        vertical-align: middle;\n",
       "    }\n",
       "\n",
       "    .dataframe tbody tr th {\n",
       "        vertical-align: top;\n",
       "    }\n",
       "\n",
       "    .dataframe thead th {\n",
       "        text-align: right;\n",
       "    }\n",
       "</style>\n",
       "<table border=\"1\" class=\"dataframe\">\n",
       "  <thead>\n",
       "    <tr style=\"text-align: right;\">\n",
       "      <th></th>\n",
       "      <th>body</th>\n",
       "      <th>category</th>\n",
       "    </tr>\n",
       "  </thead>\n",
       "  <tbody>\n",
       "    <tr>\n",
       "      <th>0</th>\n",
       "      <td>Are you a fan of Google or Microsoft?</td>\n",
       "      <td>1</td>\n",
       "    </tr>\n",
       "    <tr>\n",
       "      <th>1</th>\n",
       "      <td>Both are excellent technology they are helpful...</td>\n",
       "      <td>1</td>\n",
       "    </tr>\n",
       "    <tr>\n",
       "      <th>2</th>\n",
       "      <td>I'm not  a huge fan of Google, but I use it a ...</td>\n",
       "      <td>1</td>\n",
       "    </tr>\n",
       "    <tr>\n",
       "      <th>3</th>\n",
       "      <td>Google provides online related services and pr...</td>\n",
       "      <td>1</td>\n",
       "    </tr>\n",
       "    <tr>\n",
       "      <th>4</th>\n",
       "      <td>Yeah, their services are good. I'm just not a ...</td>\n",
       "      <td>1</td>\n",
       "    </tr>\n",
       "  </tbody>\n",
       "</table>\n",
       "</div>"
      ],
      "text/plain": [
       "                                                body  category\n",
       "0              Are you a fan of Google or Microsoft?         1\n",
       "1  Both are excellent technology they are helpful...         1\n",
       "2  I'm not  a huge fan of Google, but I use it a ...         1\n",
       "3  Google provides online related services and pr...         1\n",
       "4  Yeah, their services are good. I'm just not a ...         1"
      ]
     },
     "execution_count": 107,
     "metadata": {},
     "output_type": "execute_result"
    }
   ],
   "source": [
    "conv_message_df[\"category\"] = 1\n",
    "conv_message_df.head()"
   ]
  },
  {
   "cell_type": "code",
   "execution_count": 108,
   "id": "0e864708",
   "metadata": {},
   "outputs": [
    {
     "name": "stdout",
     "output_type": "stream",
     "text": [
      "Average message length : 103.0 characters\n"
     ]
    }
   ],
   "source": [
    "length_message = [len(mess) for mess in conv_message_df[\"body\"]]\n",
    "print(\"Average message length :\", round(np.average(length_message),0), \"characters\")"
   ]
  },
  {
   "cell_type": "code",
   "execution_count": 109,
   "id": "a68a296c",
   "metadata": {},
   "outputs": [
    {
     "data": {
      "image/png": "[encoded data removed]",
      "text/plain": [
       "<Figure size 432x288 with 1 Axes>"
      ]
     },
     "metadata": {
      "needs_background": "light"
     },
     "output_type": "display_data"
    }
   ],
   "source": [
    "length_message = [len(mess) for mess in conv_message_df[\"body\"]]\n",
    "plt.hist(length_message);"
   ]
  },
  {
   "cell_type": "markdown",
   "id": "597b29cd",
   "metadata": {},
   "source": [
    "# Concatenating emails & messages"
   ]
  },
  {
   "cell_type": "code",
   "execution_count": 110,
   "id": "9e954729",
   "metadata": {},
   "outputs": [
    {
     "data": {
      "text/html": [
       "<div>\n",
       "<style scoped>\n",
       "    .dataframe tbody tr th:only-of-type {\n",
       "        vertical-align: middle;\n",
       "    }\n",
       "\n",
       "    .dataframe tbody tr th {\n",
       "        vertical-align: top;\n",
       "    }\n",
       "\n",
       "    .dataframe thead th {\n",
       "        text-align: right;\n",
       "    }\n",
       "</style>\n",
       "<table border=\"1\" class=\"dataframe\">\n",
       "  <thead>\n",
       "    <tr style=\"text-align: right;\">\n",
       "      <th></th>\n",
       "      <th>body</th>\n",
       "      <th>category</th>\n",
       "    </tr>\n",
       "  </thead>\n",
       "  <tbody>\n",
       "    <tr>\n",
       "      <th>4354</th>\n",
       "      <td>Then again, salaries all over are huge.    Loo...</td>\n",
       "      <td>1</td>\n",
       "    </tr>\n",
       "    <tr>\n",
       "      <th>4983</th>\n",
       "      <td>These days still ? Really ? It seems like nobo...</td>\n",
       "      <td>1</td>\n",
       "    </tr>\n",
       "    <tr>\n",
       "      <th>897</th>\n",
       "      <td>\\n\\nIn DC to do Lou Pai's speech.\\n\\nYou speak...</td>\n",
       "      <td>0</td>\n",
       "    </tr>\n",
       "    <tr>\n",
       "      <th>2115</th>\n",
       "      <td>---------------------- Forwarded by John Arnol...</td>\n",
       "      <td>0</td>\n",
       "    </tr>\n",
       "    <tr>\n",
       "      <th>689</th>\n",
       "      <td>Felicia,\\n\\nThis is a merchant asset, which we...</td>\n",
       "      <td>0</td>\n",
       "    </tr>\n",
       "  </tbody>\n",
       "</table>\n",
       "</div>"
      ],
      "text/plain": [
       "                                                   body  category\n",
       "4354  Then again, salaries all over are huge.    Loo...         1\n",
       "4983  These days still ? Really ? It seems like nobo...         1\n",
       "897   \\n\\nIn DC to do Lou Pai's speech.\\n\\nYou speak...         0\n",
       "2115  ---------------------- Forwarded by John Arnol...         0\n",
       "689   Felicia,\\n\\nThis is a merchant asset, which we...         0"
      ]
     },
     "execution_count": 110,
     "metadata": {},
     "output_type": "execute_result"
    }
   ],
   "source": [
    "df = pd.concat([emails_business_df,emails_model_df[[\"body\",\"category\"]],conv_message_df.sample(len(emails_business_df)+len(emails_model_df))], axis=0).reset_index(drop=True)\n",
    "df.sample(5)"
   ]
  },
  {
   "cell_type": "code",
   "execution_count": 111,
   "id": "f1fc4692",
   "metadata": {},
   "outputs": [
    {
     "data": {
      "text/plain": [
       "0    3022\n",
       "1    3022\n",
       "Name: category, dtype: int64"
      ]
     },
     "execution_count": 111,
     "metadata": {},
     "output_type": "execute_result"
    }
   ],
   "source": [
    "df.category.value_counts()"
   ]
  },
  {
   "cell_type": "code",
   "execution_count": 146,
   "id": "80c990bb",
   "metadata": {},
   "outputs": [],
   "source": [
    "df.to_csv(\"message_business_perso.csv\")"
   ]
  },
  {
   "cell_type": "markdown",
   "id": "c21f6306",
   "metadata": {},
   "source": [
    "# Preprocessing"
   ]
  },
  {
   "cell_type": "markdown",
   "id": "63ce1258",
   "metadata": {},
   "source": [
    "## Cleaning"
   ]
  },
  {
   "cell_type": "code",
   "execution_count": 112,
   "id": "18cbfb2a",
   "metadata": {},
   "outputs": [],
   "source": [
    "def clean_email(email):\n",
    "\n",
    "    # Remove mentions\n",
    "    email = re.sub(r'@\\w+', '', email)\n",
    "    # Remove urls\n",
    "    email = re.sub(r'http\\S+', ' ', email)\n",
    "    # Remove digits\n",
    "    email = re.sub(\"\\d+\", \" \", email)\n",
    "    # Remove backline character\n",
    "    email = email.replace('\\n', ' ')\n",
    "    # Remove forwarded emails\n",
    "#     email = re.sub(\"Forwarded by.*$\",' ', email)\n",
    "#     email = re.sub(\"Original Message.*$\",' ', email)\n",
    "    # Remove digits between brackets\n",
    "    email = re.sub(r'<.*>', '', email)\n",
    "    # Remove punctuations\n",
    "    email = email.translate(str.maketrans(\" \", \" \", punctuation))\n",
    "    email = email.lower()\n",
    "    # Remove some keyword\n",
    "    elements_to_drop = ['Message-ID:', 'Date:', 'From:', 'To:', 'Subject:', 'Cc:', 'Mime-Version:',\n",
    "     'Content-Type:', 'Content-Transfer-Encoding:', 'Bcc:', 'X-From:', 'X-To:', 'X-cc:', 'X-bcc:',\n",
    "     'X-Folder:', 'X-Origin:', 'X-FileName:', 'cc', '\\t', '--', 'Sent', ' --', '-', '/', '\\n', 'Re:', 'FW:']\n",
    "    for element in elements_to_drop:\n",
    "        email = email.replace(element, ' ')\n",
    "\n",
    "    return email"
   ]
  },
  {
   "cell_type": "code",
   "execution_count": 113,
   "id": "39138336",
   "metadata": {},
   "outputs": [],
   "source": [
    "df_cleaned = df.loc[df[\"body\"].notna()]\n",
    "df_cleaned[\"body\"] = df_cleaned[\"body\"].apply(clean_email)"
   ]
  },
  {
   "cell_type": "markdown",
   "id": "e4077bb5",
   "metadata": {},
   "source": [
    "## Stopword removal"
   ]
  },
  {
   "cell_type": "code",
   "execution_count": 114,
   "id": "4613701f",
   "metadata": {},
   "outputs": [],
   "source": [
    "def stopword_removal(email):\n",
    "\n",
    "    stop_words = set(stopwords.words('english')) \n",
    "\n",
    "    email = email.split()\n",
    "    filtered_sentence = \"\"\n",
    "\n",
    "    for w in email: \n",
    "        if w not in stop_words: \n",
    "            filtered_sentence = filtered_sentence + w +\" \"\n",
    "\n",
    "    return filtered_sentence\n",
    "\n",
    "def unknown_word(email):\n",
    "    \n",
    "    words = set(nltk.corpus.words.words())\n",
    "\n",
    "    filtered_sentence = \" \".join(w for w in nltk.wordpunct_tokenize(sent) if w.lower() in words or not w.isalpha())\n",
    "    \n",
    "    return filtered_sentence"
   ]
  },
  {
   "cell_type": "code",
   "execution_count": 115,
   "id": "e362a2ab",
   "metadata": {},
   "outputs": [],
   "source": [
    "df_cleaned[\"body\"] = df_cleaned[\"body\"].apply(stopword_removal)\n",
    "# df_cleaned[\"body\"] = df_cleaned[\"body\"].apply(unknown_word)"
   ]
  },
  {
   "cell_type": "markdown",
   "id": "baa93f6f",
   "metadata": {},
   "source": [
    "## Tokenizing"
   ]
  },
  {
   "cell_type": "code",
   "execution_count": 116,
   "id": "bf4957ab",
   "metadata": {},
   "outputs": [],
   "source": [
    "df_cleaned[\"body\"] = df_cleaned[\"body\"].apply(word_tokenize)"
   ]
  },
  {
   "cell_type": "markdown",
   "id": "c532168d",
   "metadata": {},
   "source": [
    "## Lemmatizing"
   ]
  },
  {
   "cell_type": "code",
   "execution_count": 117,
   "id": "c1652c91",
   "metadata": {},
   "outputs": [],
   "source": [
    "def lemmatizing(email):\n",
    "    \n",
    "    # 1 - Lemmatizing the verbs\n",
    "    verb_lemmatized = [                  \n",
    "    WordNetLemmatizer().lemmatize(word, pos = \"v\") # v --> verbs\n",
    "    for word in email   \n",
    "    ]\n",
    "\n",
    "    # 2 - Lemmatizing the nouns\n",
    "    noun_lemmatized = [                 \n",
    "    WordNetLemmatizer().lemmatize(word, pos = \"n\") # n --> nouns\n",
    "    for word in verb_lemmatized\n",
    "    ]\n",
    "    \n",
    "    return noun_lemmatized"
   ]
  },
  {
   "cell_type": "code",
   "execution_count": 118,
   "id": "7d6a3cc0",
   "metadata": {},
   "outputs": [],
   "source": [
    "df_cleaned[\"body\"] = df_cleaned[\"body\"].apply(lemmatizing)"
   ]
  },
  {
   "cell_type": "code",
   "execution_count": 119,
   "id": "8cb410ff",
   "metadata": {},
   "outputs": [],
   "source": [
    "df_cleaned = df_cleaned[df_cleaned[\"body\"].map(lambda d: len(d)) > 0]\n",
    "df_cleaned[\"body\"] = df_cleaned[\"body\"].apply(lambda x: \" \".join(x))"
   ]
  },
  {
   "cell_type": "markdown",
   "id": "8f3a0291",
   "metadata": {},
   "source": [
    "## Example"
   ]
  },
  {
   "cell_type": "markdown",
   "id": "f7ac5956",
   "metadata": {},
   "source": [
    "### Selecting random message number"
   ]
  },
  {
   "cell_type": "code",
   "execution_count": 120,
   "id": "b71354ff",
   "metadata": {},
   "outputs": [
    {
     "data": {
      "text/plain": [
       "4583"
      ]
     },
     "execution_count": 120,
     "metadata": {},
     "output_type": "execute_result"
    }
   ],
   "source": [
    "random_mess = random.randint(0,len(df_cleaned))\n",
    "random_mess"
   ]
  },
  {
   "cell_type": "markdown",
   "id": "c88adc98",
   "metadata": {},
   "source": [
    "### Message before preprocessing"
   ]
  },
  {
   "cell_type": "code",
   "execution_count": 121,
   "id": "23e06424",
   "metadata": {},
   "outputs": [
    {
     "data": {
      "text/plain": [
       "'do you play video games?'"
      ]
     },
     "execution_count": 121,
     "metadata": {},
     "output_type": "execute_result"
    }
   ],
   "source": [
    "df.loc[random_mess,\"body\"]"
   ]
  },
  {
   "cell_type": "markdown",
   "id": "12cd81a8",
   "metadata": {},
   "source": [
    "### Message after preprocessing"
   ]
  },
  {
   "cell_type": "code",
   "execution_count": 122,
   "id": "65adeb42",
   "metadata": {},
   "outputs": [
    {
     "data": {
      "text/plain": [
       "'play video game'"
      ]
     },
     "execution_count": 122,
     "metadata": {},
     "output_type": "execute_result"
    }
   ],
   "source": [
    "df_cleaned.loc[random_mess,\"body\"]"
   ]
  },
  {
   "cell_type": "markdown",
   "id": "a4977c57",
   "metadata": {},
   "source": [
    "# Model"
   ]
  },
  {
   "cell_type": "code",
   "execution_count": 123,
   "id": "de5e3b71",
   "metadata": {},
   "outputs": [
    {
     "name": "stdout",
     "output_type": "stream",
     "text": [
      "              precision    recall  f1-score   support\n",
      "\n",
      "           0       0.74      0.98      0.84       607\n",
      "           1       0.97      0.65      0.78       598\n",
      "\n",
      "    accuracy                           0.81      1205\n",
      "   macro avg       0.85      0.81      0.81      1205\n",
      "weighted avg       0.85      0.81      0.81      1205\n",
      "\n"
     ]
    }
   ],
   "source": [
    "# Train-test split\n",
    "X_train, X_test, y_train, y_test = train_test_split(df_cleaned[\"body\"], df_cleaned[\"category\"], test_size=0.2)\n",
    "\n",
    "# Vectorizer\n",
    "vectorizer = TfidfVectorizer(min_df=0.1,max_df=0.7)\n",
    "X_train_counts = vectorizer.fit_transform(X_train)\n",
    "X_test_counts = vectorizer.transform(X_test)\n",
    "\n",
    "# Model\n",
    "model = MultinomialNB(alpha=0.01)\n",
    "model.fit(X_train_counts, y_train)\n",
    "y_pred = model.predict(X_test_counts)\n",
    "\n",
    "recall = recall_score(y_test, y_pred, average=None)\n",
    "accuracy = accuracy_score(y_test, y_pred)\n",
    "print(classification_report(y_test, model.predict(X_test_counts)))"
   ]
  },
  {
   "cell_type": "markdown",
   "id": "1dbff24a",
   "metadata": {},
   "source": [
    "## Testing the prediction on the \"purely personal\" emails"
   ]
  },
  {
   "cell_type": "code",
   "execution_count": 128,
   "id": "085ab5c9",
   "metadata": {},
   "outputs": [],
   "source": [
    "# Keeping only category 4 (personal emails)\n",
    "emails_perso = emails_df_parsed[emails_df_parsed[\"category\"]==2]\n",
    "# preprocessing\n",
    "emails_perso_cleaned = emails_perso.loc[emails_perso[\"body\"].notna()]\n",
    "emails_perso_cleaned[\"body\"] = emails_perso_cleaned[\"body\"].apply(clean_email)\n",
    "emails_perso_cleaned[\"body\"] = emails_perso_cleaned[\"body\"].apply(stopword_removal)\n",
    "emails_perso_cleaned[\"body\"] = emails_perso_cleaned[\"body\"].apply(word_tokenize)\n",
    "emails_perso_cleaned[\"body\"] = emails_perso_cleaned[\"body\"].apply(lemmatizing)\n",
    "emails_perso_cleaned = emails_perso_cleaned[emails_perso_cleaned[\"body\"].map(lambda d: len(d)) > 0]\n",
    "emails_perso_cleaned[\"body\"] = emails_perso_cleaned[\"body\"].apply(lambda x: \" \".join(x))"
   ]
  },
  {
   "cell_type": "code",
   "execution_count": 127,
   "id": "298b39ff",
   "metadata": {},
   "outputs": [
    {
     "data": {
      "text/html": [
       "<div>\n",
       "<style scoped>\n",
       "    .dataframe tbody tr th:only-of-type {\n",
       "        vertical-align: middle;\n",
       "    }\n",
       "\n",
       "    .dataframe tbody tr th {\n",
       "        vertical-align: top;\n",
       "    }\n",
       "\n",
       "    .dataframe thead th {\n",
       "        text-align: right;\n",
       "    }\n",
       "</style>\n",
       "<table border=\"1\" class=\"dataframe\">\n",
       "  <thead>\n",
       "    <tr style=\"text-align: right;\">\n",
       "      <th></th>\n",
       "      <th>body</th>\n",
       "      <th>category_predict</th>\n",
       "    </tr>\n",
       "  </thead>\n",
       "  <tbody>\n",
       "    <tr>\n",
       "      <th>0</th>\n",
       "      <td>sorry gang new computer mess email list think ...</td>\n",
       "      <td>1</td>\n",
       "    </tr>\n",
       "    <tr>\n",
       "      <th>1</th>\n",
       "      <td>boundary ca b e bef f friday burrito fun fortu...</td>\n",
       "      <td>0</td>\n",
       "    </tr>\n",
       "    <tr>\n",
       "      <th>2</th>\n",
       "      <td>preempt please jeff dasovich pm mary hainhouec...</td>\n",
       "      <td>0</td>\n",
       "    </tr>\n",
       "    <tr>\n",
       "      <th>3</th>\n",
       "      <td>sue im impress know put link email cant figure...</td>\n",
       "      <td>0</td>\n",
       "    </tr>\n",
       "    <tr>\n",
       "      <th>4</th>\n",
       "      <td>great idea</td>\n",
       "      <td>0</td>\n",
       "    </tr>\n",
       "    <tr>\n",
       "      <th>...</th>\n",
       "      <td>...</td>\n",
       "      <td>...</td>\n",
       "    </tr>\n",
       "    <tr>\n",
       "      <th>92</th>\n",
       "      <td>vince ill email cv id happy speak power risk c...</td>\n",
       "      <td>0</td>\n",
       "    </tr>\n",
       "    <tr>\n",
       "      <th>93</th>\n",
       "      <td>first hanukkah three week ago second spell inc...</td>\n",
       "      <td>1</td>\n",
       "    </tr>\n",
       "    <tr>\n",
       "      <th>94</th>\n",
       "      <td>jeff speak joannie afternoon ask email send in...</td>\n",
       "      <td>0</td>\n",
       "    </tr>\n",
       "    <tr>\n",
       "      <th>95</th>\n",
       "      <td>confidential follow member ask help inventory ...</td>\n",
       "      <td>0</td>\n",
       "    </tr>\n",
       "    <tr>\n",
       "      <th>96</th>\n",
       "      <td>jeff steve request prepare list prefer public ...</td>\n",
       "      <td>0</td>\n",
       "    </tr>\n",
       "  </tbody>\n",
       "</table>\n",
       "<p>97 rows × 2 columns</p>\n",
       "</div>"
      ],
      "text/plain": [
       "                                                 body  category_predict\n",
       "0   sorry gang new computer mess email list think ...                 1\n",
       "1   boundary ca b e bef f friday burrito fun fortu...                 0\n",
       "2   preempt please jeff dasovich pm mary hainhouec...                 0\n",
       "3   sue im impress know put link email cant figure...                 0\n",
       "4                                          great idea                 0\n",
       "..                                                ...               ...\n",
       "92  vince ill email cv id happy speak power risk c...                 0\n",
       "93  first hanukkah three week ago second spell inc...                 1\n",
       "94  jeff speak joannie afternoon ask email send in...                 0\n",
       "95  confidential follow member ask help inventory ...                 0\n",
       "96  jeff steve request prepare list prefer public ...                 0\n",
       "\n",
       "[97 rows x 2 columns]"
      ]
     },
     "execution_count": 127,
     "metadata": {},
     "output_type": "execute_result"
    }
   ],
   "source": [
    "X_perso = emails_perso_cleaned[\"body\"].reset_index(drop=True)\n",
    "X_perso_vec = vectorizer.transform(X_perso)\n",
    "y_pred_perso = model.predict(X_perso_vec)\n",
    "df_pred = pd.DataFrame({\"body\" : X_perso.values,\n",
    "             \"category_predict\" : y_pred_perso})\n",
    "df_pred"
   ]
  },
  {
   "cell_type": "markdown",
   "id": "0889859e",
   "metadata": {},
   "source": [
    "**Personal test** :"
   ]
  },
  {
   "cell_type": "code",
   "execution_count": 145,
   "id": "1ebaacae",
   "metadata": {},
   "outputs": [
    {
     "data": {
      "text/plain": [
       "array([0])"
      ]
     },
     "execution_count": 145,
     "metadata": {},
     "output_type": "execute_result"
    }
   ],
   "source": [
    "text = \"schedule a meeting tomorrow?\"\n",
    "text = clean_email(text)\n",
    "text = stopword_removal(text)\n",
    "text = word_tokenize(text)\n",
    "text = lemmatizing(text)\n",
    "text = \" \".join(text)\n",
    "text_vec = vectorizer.transform(pd.Series(text))\n",
    "y_pred_text = model.predict(text_vec)\n",
    "y_pred_text"
   ]
  },
  {
   "cell_type": "code",
   "execution_count": null,
   "id": "84afd5b5",
   "metadata": {},
   "outputs": [],
   "source": []
  }
 ],
 "metadata": {
  "kernelspec": {
   "display_name": "Python 3 (ipykernel)",
   "language": "python",
   "name": "python3"
  },
  "language_info": {
   "codemirror_mode": {
    "name": "ipython",
    "version": 3
   },
   "file_extension": ".py",
   "mimetype": "text/x-python",
   "name": "python",
   "nbconvert_exporter": "python",
   "pygments_lexer": "ipython3",
   "version": "3.8.12"
  },
  "toc": {
   "base_numbering": 1,
   "nav_menu": {},
   "number_sections": true,
   "sideBar": true,
   "skip_h1_title": false,
   "title_cell": "Table of Contents",
   "title_sidebar": "Contents",
   "toc_cell": false,
   "toc_position": {},
   "toc_section_display": true,
   "toc_window_display": false
  }
 },
 "nbformat": 4,
 "nbformat_minor": 5
}
